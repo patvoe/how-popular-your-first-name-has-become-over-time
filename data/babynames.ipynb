{
 "cells": [
  {
   "cell_type": "markdown",
   "metadata": {},
   "source": [
    "## Import Pandas"
   ]
  },
  {
   "cell_type": "code",
   "execution_count": 2,
   "metadata": {},
   "outputs": [],
   "source": [
    "import pandas as pd\n",
    "\n",
    "# os brauchen wir um dem System zu zeigen, wo die Files, die ich in ein csv-File packen will\n",
    "import os"
   ]
  },
  {
   "cell_type": "markdown",
   "metadata": {},
   "source": [
    "## Combined txt-files and read the combined csv-file"
   ]
  },
  {
   "cell_type": "code",
   "execution_count": 3,
   "metadata": {},
   "outputs": [],
   "source": [
    "# Ich mache eine leere Liste\n",
    "directory = \"./names\"\n",
    "dfs = []\n",
    "# For-Loop: für jeden Filename in diesem Ordner (Varible directory - siehe oben)\n",
    "# wenn der filename mit \".txt\" endet:\n",
    "# dann mach mir eine  neue Variable year und nimm dafür aus dem Filenamen die letzten vier Stellen (3:7 heißt, gib die ersten drei von 7 Stellen weg) -   (weil Name ist ja 'yob1880.txt' -> '1880')\n",
    "for filename in os.listdir(directory):\n",
    "    if filename.endswith(\".txt\"):\n",
    "        year = filename[3:7]\n",
    "        file_path = os.path.join(directory, filename)\n",
    "        # mach mir aus dem Inhalt ein Dataframe\n",
    "        with pd.option_context('display.max_colwidth', None):\n",
    "            df = pd.read_csv(file_path, names=[\"Name\", \"Gender\", \"Count\"])\n",
    "        # mach mir eine neue Spalte mit dem Jahr\n",
    "        df['Year'] = int(year)\n",
    "        # hämg mir alle Files in eines zusammen\n",
    "        dfs.append(df)\n",
    "# mach mir ein neues Dataframe combined_data\n",
    "combined_data = pd.concat(dfs, ignore_index=True)\n",
    "# sortiere mir das neue dataframe nach Jahr und alphabetisch nach Name\n",
    "combined_data = combined_data.sort_values(by=[\"Year\", \"Name\"])\n",
    "# Speichere das in einem neuen csv-File ab mit dem Namen combined_babynames.csv\n",
    "combined_data.to_csv(\"combined_babynames.csv\", index=False)"
   ]
  },
  {
   "cell_type": "code",
   "execution_count": 4,
   "metadata": {},
   "outputs": [
    {
     "data": {
      "text/html": [
       "<div>\n",
       "<style scoped>\n",
       "    .dataframe tbody tr th:only-of-type {\n",
       "        vertical-align: middle;\n",
       "    }\n",
       "\n",
       "    .dataframe tbody tr th {\n",
       "        vertical-align: top;\n",
       "    }\n",
       "\n",
       "    .dataframe thead th {\n",
       "        text-align: right;\n",
       "    }\n",
       "</style>\n",
       "<table border=\"1\" class=\"dataframe\">\n",
       "  <thead>\n",
       "    <tr style=\"text-align: right;\">\n",
       "      <th></th>\n",
       "      <th>Name</th>\n",
       "      <th>Gender</th>\n",
       "      <th>Count</th>\n",
       "      <th>Year</th>\n",
       "    </tr>\n",
       "  </thead>\n",
       "  <tbody>\n",
       "    <tr>\n",
       "      <th>0</th>\n",
       "      <td>Aaron</td>\n",
       "      <td>M</td>\n",
       "      <td>102</td>\n",
       "      <td>1880</td>\n",
       "    </tr>\n",
       "    <tr>\n",
       "      <th>1</th>\n",
       "      <td>Ab</td>\n",
       "      <td>M</td>\n",
       "      <td>5</td>\n",
       "      <td>1880</td>\n",
       "    </tr>\n",
       "    <tr>\n",
       "      <th>2</th>\n",
       "      <td>Abbie</td>\n",
       "      <td>F</td>\n",
       "      <td>71</td>\n",
       "      <td>1880</td>\n",
       "    </tr>\n",
       "    <tr>\n",
       "      <th>3</th>\n",
       "      <td>Abbott</td>\n",
       "      <td>M</td>\n",
       "      <td>5</td>\n",
       "      <td>1880</td>\n",
       "    </tr>\n",
       "    <tr>\n",
       "      <th>4</th>\n",
       "      <td>Abby</td>\n",
       "      <td>F</td>\n",
       "      <td>6</td>\n",
       "      <td>1880</td>\n",
       "    </tr>\n",
       "    <tr>\n",
       "      <th>5</th>\n",
       "      <td>Abe</td>\n",
       "      <td>M</td>\n",
       "      <td>50</td>\n",
       "      <td>1880</td>\n",
       "    </tr>\n",
       "    <tr>\n",
       "      <th>6</th>\n",
       "      <td>Abel</td>\n",
       "      <td>M</td>\n",
       "      <td>9</td>\n",
       "      <td>1880</td>\n",
       "    </tr>\n",
       "    <tr>\n",
       "      <th>7</th>\n",
       "      <td>Abigail</td>\n",
       "      <td>F</td>\n",
       "      <td>12</td>\n",
       "      <td>1880</td>\n",
       "    </tr>\n",
       "    <tr>\n",
       "      <th>8</th>\n",
       "      <td>Abner</td>\n",
       "      <td>M</td>\n",
       "      <td>27</td>\n",
       "      <td>1880</td>\n",
       "    </tr>\n",
       "    <tr>\n",
       "      <th>9</th>\n",
       "      <td>Abraham</td>\n",
       "      <td>M</td>\n",
       "      <td>81</td>\n",
       "      <td>1880</td>\n",
       "    </tr>\n",
       "  </tbody>\n",
       "</table>\n",
       "</div>"
      ],
      "text/plain": [
       "      Name Gender  Count  Year\n",
       "0    Aaron      M    102  1880\n",
       "1       Ab      M      5  1880\n",
       "2    Abbie      F     71  1880\n",
       "3   Abbott      M      5  1880\n",
       "4     Abby      F      6  1880\n",
       "5      Abe      M     50  1880\n",
       "6     Abel      M      9  1880\n",
       "7  Abigail      F     12  1880\n",
       "8    Abner      M     27  1880\n",
       "9  Abraham      M     81  1880"
      ]
     },
     "execution_count": 4,
     "metadata": {},
     "output_type": "execute_result"
    }
   ],
   "source": [
    "# read new combinated file\n",
    "df = pd.read_csv(\"combined_babynames.csv\")\n",
    "\n",
    "df.head(10)"
   ]
  },
  {
   "cell_type": "markdown",
   "metadata": {},
   "source": [
    "### Format column count as integer"
   ]
  },
  {
   "cell_type": "code",
   "execution_count": 5,
   "metadata": {},
   "outputs": [],
   "source": [
    "# format Count to float64\n",
    "df[\"Count\"] = df[\"Count\"].astype(float)"
   ]
  },
  {
   "cell_type": "markdown",
   "metadata": {},
   "source": [
    "### Counts of names by year"
   ]
  },
  {
   "cell_type": "code",
   "execution_count": 6,
   "metadata": {},
   "outputs": [
    {
     "data": {
      "text/plain": [
       "Year  Name   \n",
       "1880  Aaron      102.0\n",
       "      Ab           5.0\n",
       "      Abbie       71.0\n",
       "      Abbott       5.0\n",
       "      Abby         6.0\n",
       "      Abe         50.0\n",
       "      Abel         9.0\n",
       "      Abigail     12.0\n",
       "      Abner       27.0\n",
       "      Abraham     81.0\n",
       "Name: Count, dtype: float64"
      ]
     },
     "execution_count": 6,
     "metadata": {},
     "output_type": "execute_result"
    }
   ],
   "source": [
    "# counts of names by year\n",
    "names_by_year = df.groupby([\"Year\", \"Name\"])[\"Count\"].sum()\n",
    "\n",
    "names_by_year.head(10)\n",
    "\n",
    "# export to csv\n",
    "# names_by_year.to_csv(\"names_by_year.csv\", header=True)"
   ]
  },
  {
   "cell_type": "markdown",
   "metadata": {},
   "source": [
    "### Add an new column with name and the gender in brackets ()"
   ]
  },
  {
   "cell_type": "code",
   "execution_count": 7,
   "metadata": {},
   "outputs": [
    {
     "data": {
      "text/html": [
       "<div>\n",
       "<style scoped>\n",
       "    .dataframe tbody tr th:only-of-type {\n",
       "        vertical-align: middle;\n",
       "    }\n",
       "\n",
       "    .dataframe tbody tr th {\n",
       "        vertical-align: top;\n",
       "    }\n",
       "\n",
       "    .dataframe thead th {\n",
       "        text-align: right;\n",
       "    }\n",
       "</style>\n",
       "<table border=\"1\" class=\"dataframe\">\n",
       "  <thead>\n",
       "    <tr style=\"text-align: right;\">\n",
       "      <th></th>\n",
       "      <th>Name</th>\n",
       "      <th>Gender</th>\n",
       "      <th>Count</th>\n",
       "      <th>Year</th>\n",
       "      <th>name_with_gender</th>\n",
       "    </tr>\n",
       "  </thead>\n",
       "  <tbody>\n",
       "    <tr>\n",
       "      <th>0</th>\n",
       "      <td>Aaron</td>\n",
       "      <td>M</td>\n",
       "      <td>102.0</td>\n",
       "      <td>1880</td>\n",
       "      <td>Aaron (M)</td>\n",
       "    </tr>\n",
       "    <tr>\n",
       "      <th>1</th>\n",
       "      <td>Ab</td>\n",
       "      <td>M</td>\n",
       "      <td>5.0</td>\n",
       "      <td>1880</td>\n",
       "      <td>Ab (M)</td>\n",
       "    </tr>\n",
       "    <tr>\n",
       "      <th>2</th>\n",
       "      <td>Abbie</td>\n",
       "      <td>F</td>\n",
       "      <td>71.0</td>\n",
       "      <td>1880</td>\n",
       "      <td>Abbie (F)</td>\n",
       "    </tr>\n",
       "    <tr>\n",
       "      <th>3</th>\n",
       "      <td>Abbott</td>\n",
       "      <td>M</td>\n",
       "      <td>5.0</td>\n",
       "      <td>1880</td>\n",
       "      <td>Abbott (M)</td>\n",
       "    </tr>\n",
       "    <tr>\n",
       "      <th>4</th>\n",
       "      <td>Abby</td>\n",
       "      <td>F</td>\n",
       "      <td>6.0</td>\n",
       "      <td>1880</td>\n",
       "      <td>Abby (F)</td>\n",
       "    </tr>\n",
       "    <tr>\n",
       "      <th>...</th>\n",
       "      <td>...</td>\n",
       "      <td>...</td>\n",
       "      <td>...</td>\n",
       "      <td>...</td>\n",
       "      <td>...</td>\n",
       "    </tr>\n",
       "    <tr>\n",
       "      <th>2117214</th>\n",
       "      <td>Zyrie</td>\n",
       "      <td>M</td>\n",
       "      <td>13.0</td>\n",
       "      <td>2023</td>\n",
       "      <td>Zyrie (M)</td>\n",
       "    </tr>\n",
       "    <tr>\n",
       "      <th>2117215</th>\n",
       "      <td>Zyrin</td>\n",
       "      <td>M</td>\n",
       "      <td>5.0</td>\n",
       "      <td>2023</td>\n",
       "      <td>Zyrin (M)</td>\n",
       "    </tr>\n",
       "    <tr>\n",
       "      <th>2117216</th>\n",
       "      <td>Zyrus</td>\n",
       "      <td>M</td>\n",
       "      <td>14.0</td>\n",
       "      <td>2023</td>\n",
       "      <td>Zyrus (M)</td>\n",
       "    </tr>\n",
       "    <tr>\n",
       "      <th>2117217</th>\n",
       "      <td>Zyshawn</td>\n",
       "      <td>M</td>\n",
       "      <td>6.0</td>\n",
       "      <td>2023</td>\n",
       "      <td>Zyshawn (M)</td>\n",
       "    </tr>\n",
       "    <tr>\n",
       "      <th>2117218</th>\n",
       "      <td>Zyva</td>\n",
       "      <td>F</td>\n",
       "      <td>9.0</td>\n",
       "      <td>2023</td>\n",
       "      <td>Zyva (F)</td>\n",
       "    </tr>\n",
       "  </tbody>\n",
       "</table>\n",
       "<p>2117219 rows × 5 columns</p>\n",
       "</div>"
      ],
      "text/plain": [
       "            Name Gender  Count  Year name_with_gender\n",
       "0          Aaron      M  102.0  1880        Aaron (M)\n",
       "1             Ab      M    5.0  1880           Ab (M)\n",
       "2          Abbie      F   71.0  1880        Abbie (F)\n",
       "3         Abbott      M    5.0  1880       Abbott (M)\n",
       "4           Abby      F    6.0  1880         Abby (F)\n",
       "...          ...    ...    ...   ...              ...\n",
       "2117214    Zyrie      M   13.0  2023        Zyrie (M)\n",
       "2117215    Zyrin      M    5.0  2023        Zyrin (M)\n",
       "2117216    Zyrus      M   14.0  2023        Zyrus (M)\n",
       "2117217  Zyshawn      M    6.0  2023      Zyshawn (M)\n",
       "2117218     Zyva      F    9.0  2023         Zyva (F)\n",
       "\n",
       "[2117219 rows x 5 columns]"
      ]
     },
     "execution_count": 7,
     "metadata": {},
     "output_type": "execute_result"
    }
   ],
   "source": [
    "# add a new column with name and gender in brackets\n",
    "# Step 2 & 3: Combine 'name' and 'gender', then assign to a new column\n",
    "df['name_with_gender'] = df.apply(lambda row: f\"{row['Name']} ({row['Gender']})\", axis=1)\n",
    "\n",
    "# Display the DataFrame to verify the new column\n",
    "df\n"
   ]
  },
  {
   "cell_type": "code",
   "execution_count": 8,
   "metadata": {},
   "outputs": [
    {
     "name": "stdout",
     "output_type": "stream",
     "text": [
      "<class 'pandas.core.frame.DataFrame'>\n",
      "RangeIndex: 2117219 entries, 0 to 2117218\n",
      "Data columns (total 5 columns):\n",
      " #   Column            Dtype  \n",
      "---  ------            -----  \n",
      " 0   Name              object \n",
      " 1   Gender            object \n",
      " 2   Count             float64\n",
      " 3   Year              int64  \n",
      " 4   name_with_gender  object \n",
      "dtypes: float64(1), int64(1), object(3)\n",
      "memory usage: 80.8+ MB\n"
     ]
    }
   ],
   "source": [
    "df.info()"
   ]
  },
  {
   "cell_type": "markdown",
   "metadata": {},
   "source": [
    "### calculat share in percent of the name to all of the same gender in that year"
   ]
  },
  {
   "cell_type": "code",
   "execution_count": 9,
   "metadata": {},
   "outputs": [
    {
     "name": "stdout",
     "output_type": "stream",
     "text": [
      "          Name Gender   Count  Year name_with_gender  share_percent\n",
      "1024      John      M  9655.0  1880         John (M)       8.738347\n",
      "2987      John      M  8768.0  1881         John (M)       8.704025\n",
      "1952   William      M  9532.0  1880      William (M)       8.627025\n",
      "7128      John      M  8894.0  1883         John (M)       8.500836\n",
      "3887   William      M  8524.0  1881      William (M)       8.461806\n",
      "5015      John      M  9557.0  1882         John (M)       8.406488\n",
      "9310      John      M  9388.0  1884         John (M)       8.203282\n",
      "6011   William      M  9298.0  1882      William (M)       8.178668\n",
      "13922     John      M  9026.0  1886         John (M)       8.147386\n",
      "11597     John      M  8756.0  1885         John (M)       8.122524\n"
     ]
    }
   ],
   "source": [
    "# calculat share in percent of the name to all of the same gender in that year\n",
    "# Step 1 & 2: Group by 'year' and 'gender', then calculate total counts\n",
    "total_counts_by_year_gender = df.groupby(['Year', 'Gender'])['Count'].transform('sum')\n",
    "\n",
    "# Step 3: Calculate share in percent\n",
    "df['share_percent'] = (df['Count'] / total_counts_by_year_gender) * 100\n",
    "\n",
    "# Display the DataFrame to verify the results\n",
    "print(df.sort_values(by='share_percent', ascending=False).head(10))"
   ]
  },
  {
   "cell_type": "markdown",
   "metadata": {},
   "source": [
    "Export to CSV"
   ]
  },
  {
   "cell_type": "code",
   "execution_count": 10,
   "metadata": {},
   "outputs": [
    {
     "name": "stdout",
     "output_type": "stream",
     "text": [
      "<class 'pandas.core.frame.DataFrame'>\n",
      "RangeIndex: 2117219 entries, 0 to 2117218\n",
      "Data columns (total 6 columns):\n",
      " #   Column            Dtype  \n",
      "---  ------            -----  \n",
      " 0   Name              object \n",
      " 1   Gender            object \n",
      " 2   Count             float64\n",
      " 3   Year              int64  \n",
      " 4   name_with_gender  object \n",
      " 5   share_percent     float64\n",
      "dtypes: float64(2), int64(1), object(3)\n",
      "memory usage: 96.9+ MB\n"
     ]
    }
   ],
   "source": [
    "df.info()"
   ]
  },
  {
   "cell_type": "code",
   "execution_count": 11,
   "metadata": {},
   "outputs": [],
   "source": [
    "# export to csv\n",
    "\n",
    "# Keep only necessary columns for D3 visualization\n",
    "data_minified = df[['name_with_gender', 'Year', 'share_percent', 'Count']]\n",
    "\n",
    "# Export the minified DataFrame to a CSV file without the index\n",
    "data_minified.to_csv(\"data_minified.csv\", index=False)"
   ]
  },
  {
   "cell_type": "markdown",
   "metadata": {},
   "source": [
    "plot popularity from james"
   ]
  },
  {
   "cell_type": "code",
   "execution_count": 12,
   "metadata": {},
   "outputs": [
    {
     "data": {
      "text/plain": [
       "<Axes: title={'center': 'James (M)'}, xlabel='Year'>"
      ]
     },
     "execution_count": 12,
     "metadata": {},
     "output_type": "execute_result"
    },
    {
     "data": {
      "image/png": "[encoded data removed]",
      "text/plain": [
       "<Figure size 640x480 with 1 Axes>"
      ]
     },
     "metadata": {},
     "output_type": "display_data"
    }
   ],
   "source": [
    "# share_percent for name_with_gender = James (M) for each year\n",
    "# Step 1: Filter for 'James (M)'\n",
    "james_m = df[df['name_with_gender'] == 'James (M)']\n",
    "\n",
    "# Step 2: Select relevant columns (optional if you want to narrow down the displayed data)\n",
    "james_m = james_m[['Year', 'name_with_gender', 'share_percent']]\n",
    "\n",
    "# Display the result\n",
    "james_m.plot(x='Year', y='share_percent', title='James (M)')"
   ]
  },
  {
   "cell_type": "markdown",
   "metadata": {},
   "source": [
    "### Column with NameLength"
   ]
  },
  {
   "cell_type": "code",
   "execution_count": 13,
   "metadata": {},
   "outputs": [
    {
     "name": "stdout",
     "output_type": "stream",
     "text": [
      "                Name Gender    Count  Year name_with_gender  share_percent\n",
      "1344708        Jacob      M  34490.0  2000        Jacob (M)       1.756223\n",
      "1374628        Jacob      M  32572.0  2001        Jacob (M)       1.676573\n",
      "1353244      Michael      M  32042.0  2000      Michael (M)       1.631571\n",
      "1405134        Jacob      M  30585.0  2002        Jacob (M)       1.575411\n",
      "1383333      Michael      M  29688.0  2001      Michael (M)       1.528125\n",
      "1435961        Jacob      M  29652.0  2003        Jacob (M)       1.501293\n",
      "1413982      Michael      M  28257.0  2002      Michael (M)       1.455498\n",
      "1352727      Matthew      M  28579.0  2000      Matthew (M)       1.455236\n",
      "1342141        Emily      F  25959.0  2000        Emily (F)       1.429526\n",
      "1433199        Emily      F  25692.0  2003        Emily (F)       1.406302\n",
      "1467496        Jacob      M  27902.0  2004        Jacob (M)       1.405891\n",
      "1347090       Joshua      M  27540.0  2000       Joshua (M)       1.402330\n",
      "1372009        Emily      F  25059.0  2001        Emily (F)       1.391785\n",
      "1382793      Matthew      M  26812.0  2001      Matthew (M)       1.380089\n",
      "1444943      Michael      M  27126.0  2003      Michael (M)       1.373401\n",
      "1464629        Emily      F  25040.0  2004        Emily (F)       1.363846\n",
      "1402450        Emily      F  24469.0  2002        Emily (F)       1.361859\n",
      "1377121       Joshua      M  26024.0  2001       Joshua (M)       1.339529\n",
      "1407681       Joshua      M  25997.0  2002       Joshua (M)       1.339087\n",
      "1496748        Emily      F  23949.0  2005        Emily (F)       1.296248\n",
      "1413441      Matthew      M  25154.0  2002      Matthew (M)       1.295664\n",
      "1499678        Jacob      M  25846.0  2005        Jacob (M)       1.294252\n",
      "1671543     Isabella      F  22934.0  2010     Isabella (F)       1.290592\n",
      "1476788      Michael      M  25469.0  2004      Michael (M)       1.283300\n",
      "1343732       Hannah      F  23086.0  2000       Hannah (F)       1.271314\n",
      "1438523       Joshua      M  25103.0  2003       Joshua (M)       1.270976\n",
      "1338728  Christopher      M  24936.0  2000  Christopher (M)       1.269735\n",
      "1755914       Sophia      F  22333.0  2012       Sophia (F)       1.268652\n",
      "1354563     Nicholas      M  24653.0  2000     Nicholas (M)       1.255325\n",
      "1433215         Emma      F  22716.0  2003         Emma (F)       1.243405\n",
      "1722113       Sophia      F  21859.0  2011       Sophia (F)       1.243039\n",
      "1381681      Madison      F  22166.0  2001      Madison (F)       1.231107\n",
      "2104196         Liam      M  20802.0  2023         Liam (M)       1.222767\n",
      "1470122       Joshua      M  24211.0  2004       Joshua (M)       1.219913\n",
      "1444367      Matthew      M  24010.0  2003      Matthew (M)       1.215636\n",
      "1636949     Isabella      F  22318.0  2009     Isabella (F)       1.215204\n",
      "1412322      Madison      F  21773.0  2002      Madison (F)       1.211809\n",
      "1789383       Sophia      F  21249.0  2013       Sophia (F)       1.211471\n",
      "1532833        Jacob      M  24862.0  2006        Jacob (M)       1.209899\n",
      "1334992       Andrew      M  23654.0  2000       Andrew (M)       1.204456\n"
     ]
    }
   ],
   "source": [
    "# df['share_percent'] since 2000\n",
    "# Step 1: Filter for years greater than or equal to 2000\n",
    "df_since_2000 = df[df['Year'] >= 2000]\n",
    "\n",
    "# Step 2:\n",
    "df['share_percent'] = (df_since_2000['Count'] / total_counts_by_year_gender) * 100\n",
    "\n",
    "print(df.sort_values(by='share_percent', ascending=False).head(40))"
   ]
  },
  {
   "cell_type": "markdown",
   "metadata": {},
   "source": [
    "Average name length by year"
   ]
  },
  {
   "cell_type": "code",
   "execution_count": 14,
   "metadata": {},
   "outputs": [
    {
     "data": {
      "text/plain": [
       "<Axes: xlabel='Year'>"
      ]
     },
     "execution_count": 14,
     "metadata": {},
     "output_type": "execute_result"
    },
    {
     "data": {
      "image/png": "[encoded data removed]",
      "text/plain": [
       "<Figure size 640x480 with 1 Axes>"
      ]
     },
     "metadata": {},
     "output_type": "display_data"
    }
   ],
   "source": [
    "# Average name length by year\n",
    "df['NameLength'] = df['Name'].str.len()\n",
    "average_name_length_per_year = df.groupby('Year')['NameLength'].mean()\n",
    "average_name_length_per_year.plot()\n"
   ]
  },
  {
   "cell_type": "code",
   "execution_count": null,
   "metadata": {},
   "outputs": [
    {
     "data": {
      "image/png": "[encoded data removed]",
      "text/plain": [
       "<Figure size 640x480 with 1 Axes>"
      ]
     },
     "metadata": {},
     "output_type": "display_data"
    }
   ],
   "source": [
    "# Step 1: Filter for gender \"F\"\n",
    "df_f = df[df['Gender'] == 'F'].copy()\n",
    "\n",
    "# Average name length for gender F by year\n",
    "df_f['NameLength'] = df_f['Name'].str.len()\n",
    "\n",
    "# Average name length for gender F by year\n",
    "average_name_length_per_year_f = df_f.groupby('Year')['NameLength'].mean()\n",
    "average_name_length_per_year_f.plot()\n"
   ]
  },
  {
   "cell_type": "markdown",
   "metadata": {},
   "source": [
    "Export NameLength per year for both genders"
   ]
  },
  {
   "cell_type": "code",
   "execution_count": 18,
   "metadata": {},
   "outputs": [],
   "source": [
    "# Step 1: Filter for gender \"F\"\n",
    "df_f = df[df['Gender'] == 'F'].copy()\n",
    "df_f['NameLength'] = df_f['Name'].str.len()\n",
    "average_name_length_per_year_f = df_f.groupby('Year')['NameLength'].mean()\n",
    "\n",
    "# Step 2: Filter for gender \"M\"\n",
    "df_m = df[df['Gender'] == 'M'].copy()\n",
    "df_m['NameLength'] = df_m['Name'].str.len()\n",
    "average_name_length_per_year_m = df_m.groupby('Year')['NameLength'].mean()\n",
    "\n",
    "# Step 3: Combine the results\n",
    "average_name_length_per_year = pd.DataFrame({\n",
    "    'F': average_name_length_per_year_f,\n",
    "    'M': average_name_length_per_year_m\n",
    "}).reset_index()\n",
    "\n",
    "# Step 4: Export to csv\n",
    "average_name_length_per_year.to_csv(\"average_name_length_per_year_by_gender.csv\", index=False)"
   ]
  },
  {
   "cell_type": "code",
   "execution_count": 19,
   "metadata": {},
   "outputs": [
    {
     "data": {
      "text/plain": [
       "<Axes: xlabel='Year'>"
      ]
     },
     "execution_count": 19,
     "metadata": {},
     "output_type": "execute_result"
    },
    {
     "data": {
      "image/png": "[encoded data removed]",
      "text/plain": [
       "<Figure size 640x480 with 1 Axes>"
      ]
     },
     "metadata": {},
     "output_type": "display_data"
    }
   ],
   "source": [
    "# Average name length for gender M by year\n",
    "df_m['NameLength'] = df_m['Name'].str.len()\n",
    "average_name_length_per_year_m = df_m.groupby('Year')['NameLength'].mean()\n",
    "average_name_length_per_year_m.plot()"
   ]
  },
  {
   "cell_type": "markdown",
   "metadata": {},
   "source": [
    "### Dataframes of longest and shortest names"
   ]
  },
  {
   "cell_type": "markdown",
   "metadata": {},
   "source": [
    "Longest male names"
   ]
  },
  {
   "cell_type": "code",
   "execution_count": null,
   "metadata": {},
   "outputs": [
    {
     "name": "stderr",
     "output_type": "stream",
     "text": [
      "/var/folders/fg/9vmq_tp10lv_kw_hsjpvgq840000gn/T/ipykernel_8038/3519185263.py:5: SettingWithCopyWarning: \n",
      "A value is trying to be set on a copy of a slice from a DataFrame.\n",
      "Try using .loc[row_indexer,col_indexer] = value instead\n",
      "\n",
      "See the caveats in the documentation: https://pandas.pydata.org/pandas-docs/stable/user_guide/indexing.html#returning-a-view-versus-a-copy\n",
      "  df_males['NameLength'] = df_males['Name'].str.len()\n"
     ]
    },
    {
     "data": {
      "text/html": [
       "<div>\n",
       "<style scoped>\n",
       "    .dataframe tbody tr th:only-of-type {\n",
       "        vertical-align: middle;\n",
       "    }\n",
       "\n",
       "    .dataframe tbody tr th {\n",
       "        vertical-align: top;\n",
       "    }\n",
       "\n",
       "    .dataframe thead th {\n",
       "        text-align: right;\n",
       "    }\n",
       "</style>\n",
       "<table border=\"1\" class=\"dataframe\">\n",
       "  <thead>\n",
       "    <tr style=\"text-align: right;\">\n",
       "      <th></th>\n",
       "      <th>Name</th>\n",
       "      <th>Count</th>\n",
       "      <th>NameLength</th>\n",
       "    </tr>\n",
       "  </thead>\n",
       "  <tbody>\n",
       "    <tr>\n",
       "      <th>15</th>\n",
       "      <td>Franciscojavier</td>\n",
       "      <td>123</td>\n",
       "      <td>15</td>\n",
       "    </tr>\n",
       "    <tr>\n",
       "      <th>9</th>\n",
       "      <td>Christopherjohn</td>\n",
       "      <td>123</td>\n",
       "      <td>15</td>\n",
       "    </tr>\n",
       "    <tr>\n",
       "      <th>18</th>\n",
       "      <td>Johnchristopher</td>\n",
       "      <td>118</td>\n",
       "      <td>15</td>\n",
       "    </tr>\n",
       "    <tr>\n",
       "      <th>8</th>\n",
       "      <td>Christopherjame</td>\n",
       "      <td>108</td>\n",
       "      <td>15</td>\n",
       "    </tr>\n",
       "    <tr>\n",
       "      <th>11</th>\n",
       "      <td>Christophermich</td>\n",
       "      <td>52</td>\n",
       "      <td>15</td>\n",
       "    </tr>\n",
       "    <tr>\n",
       "      <th>29</th>\n",
       "      <td>Ryanchristopher</td>\n",
       "      <td>45</td>\n",
       "      <td>15</td>\n",
       "    </tr>\n",
       "    <tr>\n",
       "      <th>27</th>\n",
       "      <td>Muhammadibrahim</td>\n",
       "      <td>31</td>\n",
       "      <td>15</td>\n",
       "    </tr>\n",
       "    <tr>\n",
       "      <th>19</th>\n",
       "      <td>Jonathanmichael</td>\n",
       "      <td>25</td>\n",
       "      <td>15</td>\n",
       "    </tr>\n",
       "    <tr>\n",
       "      <th>3</th>\n",
       "      <td>Christianjoseph</td>\n",
       "      <td>22</td>\n",
       "      <td>15</td>\n",
       "    </tr>\n",
       "    <tr>\n",
       "      <th>10</th>\n",
       "      <td>Christopherjose</td>\n",
       "      <td>22</td>\n",
       "      <td>15</td>\n",
       "    </tr>\n",
       "  </tbody>\n",
       "</table>\n",
       "</div>"
      ],
      "text/plain": [
       "               Name  Count  NameLength\n",
       "15  Franciscojavier    123          15\n",
       "9   Christopherjohn    123          15\n",
       "18  Johnchristopher    118          15\n",
       "8   Christopherjame    108          15\n",
       "11  Christophermich     52          15\n",
       "29  Ryanchristopher     45          15\n",
       "27  Muhammadibrahim     31          15\n",
       "19  Jonathanmichael     25          15\n",
       "3   Christianjoseph     22          15\n",
       "10  Christopherjose     22          15"
      ]
     },
     "execution_count": 95,
     "metadata": {},
     "output_type": "execute_result"
    }
   ],
   "source": [
    "# Step 0: Add a filter for male names\n",
    "df_males = df[df['Gender'] == 'M']\n",
    "\n",
    "# Step 1: Filter for the longest names among males\n",
    "df_males['NameLength'] = df_males['Name'].str.len()\n",
    "longest_name_males = df_males[df_males['NameLength'] == df_males['NameLength'].max()]\n",
    "\n",
    "# Step 2 & 3: Group by 'Name', sum 'Count', and sort for male names\n",
    "longest_name_summed_males = longest_name_males.groupby('Name')['Count'].sum().reset_index()\n",
    "\n",
    "# Merge to include NameLength for male names\n",
    "longest_name_summed_males = longest_name_summed_males.merge(longest_name_males[['Name', 'NameLength']].drop_duplicates(), on='Name', how='left')\n",
    "\n",
    "# Sort by 'Count' in descending order for male names\n",
    "longest_name_summed_males = longest_name_summed_males.sort_values(by='Count', ascending=False)\n",
    "\n",
    "# Step 4: Display the top 10 male names\n",
    "longest_name_summed_males.head(10)\n"
   ]
  },
  {
   "cell_type": "markdown",
   "metadata": {},
   "source": [
    "Longest names male in 2023"
   ]
  },
  {
   "cell_type": "code",
   "execution_count": null,
   "metadata": {},
   "outputs": [
    {
     "name": "stderr",
     "output_type": "stream",
     "text": [
      "/var/folders/fg/9vmq_tp10lv_kw_hsjpvgq840000gn/T/ipykernel_8038/4131880879.py:5: SettingWithCopyWarning: \n",
      "A value is trying to be set on a copy of a slice from a DataFrame.\n",
      "Try using .loc[row_indexer,col_indexer] = value instead\n",
      "\n",
      "See the caveats in the documentation: https://pandas.pydata.org/pandas-docs/stable/user_guide/indexing.html#returning-a-view-versus-a-copy\n",
      "  df_males_2023['NameLength'] = df_males_2023['Name'].str.len()\n"
     ]
    },
    {
     "data": {
      "text/html": [
       "<div>\n",
       "<style scoped>\n",
       "    .dataframe tbody tr th:only-of-type {\n",
       "        vertical-align: middle;\n",
       "    }\n",
       "\n",
       "    .dataframe tbody tr th {\n",
       "        vertical-align: top;\n",
       "    }\n",
       "\n",
       "    .dataframe thead th {\n",
       "        text-align: right;\n",
       "    }\n",
       "</style>\n",
       "<table border=\"1\" class=\"dataframe\">\n",
       "  <thead>\n",
       "    <tr style=\"text-align: right;\">\n",
       "      <th></th>\n",
       "      <th>Name</th>\n",
       "      <th>Count</th>\n",
       "      <th>NameLength</th>\n",
       "    </tr>\n",
       "  </thead>\n",
       "  <tbody>\n",
       "    <tr>\n",
       "      <th>0</th>\n",
       "      <td>Muhammadibrahim</td>\n",
       "      <td>7</td>\n",
       "      <td>15</td>\n",
       "    </tr>\n",
       "    <tr>\n",
       "      <th>1</th>\n",
       "      <td>Muhammadmustafa</td>\n",
       "      <td>6</td>\n",
       "      <td>15</td>\n",
       "    </tr>\n",
       "  </tbody>\n",
       "</table>\n",
       "</div>"
      ],
      "text/plain": [
       "              Name  Count  NameLength\n",
       "0  Muhammadibrahim      7          15\n",
       "1  Muhammadmustafa      6          15"
      ]
     },
     "execution_count": 103,
     "metadata": {},
     "output_type": "execute_result"
    }
   ],
   "source": [
    "# Adjusted Step 0: Filter for male names in 2023\n",
    "df_males_2023 = df[(df['Gender'] == 'M') & (df['Year'] == 2023)]\n",
    "\n",
    "# Step 1: Calculate 'NameLength' for male names in 2023\n",
    "df_males_2023['NameLength'] = df_males_2023['Name'].str.len()\n",
    "longest_name_males_2023 = df_males_2023[df_males_2023['NameLength'] == df_males_2023['NameLength'].max()]\n",
    "\n",
    "# Step 2 & 3: Group by 'Name', sum 'Count', and sort for male names in 2023\n",
    "longest_name_summed_males_2023 = longest_name_males_2023.groupby('Name')['Count'].sum().reset_index()\n",
    "\n",
    "# Merge to include NameLength for male names in 2023\n",
    "longest_name_summed_males_2023 = longest_name_summed_males_2023.merge(longest_name_males_2023[['Name', 'NameLength']].drop_duplicates(), on='Name', how='left')\n",
    "\n",
    "# Sort by 'Count' in descending order for male names in 2023\n",
    "longest_name_summed_males_2023 = longest_name_summed_males_2023.sort_values(by='Count', ascending=False)\n",
    "\n",
    "# Step 4: Display the top 10 male names in 2023\n",
    "longest_name_summed_males_2023.head(10)"
   ]
  },
  {
   "cell_type": "markdown",
   "metadata": {},
   "source": [
    "Longest female names"
   ]
  },
  {
   "cell_type": "code",
   "execution_count": null,
   "metadata": {},
   "outputs": [
    {
     "name": "stderr",
     "output_type": "stream",
     "text": [
      "/var/folders/fg/9vmq_tp10lv_kw_hsjpvgq840000gn/T/ipykernel_8038/350820670.py:5: SettingWithCopyWarning: \n",
      "A value is trying to be set on a copy of a slice from a DataFrame.\n",
      "Try using .loc[row_indexer,col_indexer] = value instead\n",
      "\n",
      "See the caveats in the documentation: https://pandas.pydata.org/pandas-docs/stable/user_guide/indexing.html#returning-a-view-versus-a-copy\n",
      "  df_females['NameLength'] = df_females['Name'].str.len()\n"
     ]
    },
    {
     "data": {
      "text/html": [
       "<div>\n",
       "<style scoped>\n",
       "    .dataframe tbody tr th:only-of-type {\n",
       "        vertical-align: middle;\n",
       "    }\n",
       "\n",
       "    .dataframe tbody tr th {\n",
       "        vertical-align: top;\n",
       "    }\n",
       "\n",
       "    .dataframe thead th {\n",
       "        text-align: right;\n",
       "    }\n",
       "</style>\n",
       "<table border=\"1\" class=\"dataframe\">\n",
       "  <thead>\n",
       "    <tr style=\"text-align: right;\">\n",
       "      <th></th>\n",
       "      <th>Name</th>\n",
       "      <th>Count</th>\n",
       "      <th>NameLength</th>\n",
       "    </tr>\n",
       "  </thead>\n",
       "  <tbody>\n",
       "    <tr>\n",
       "      <th>3</th>\n",
       "      <td>Mariadelosangel</td>\n",
       "      <td>28</td>\n",
       "      <td>15</td>\n",
       "    </tr>\n",
       "    <tr>\n",
       "      <th>4</th>\n",
       "      <td>Mariadelrosario</td>\n",
       "      <td>16</td>\n",
       "      <td>15</td>\n",
       "    </tr>\n",
       "    <tr>\n",
       "      <th>0</th>\n",
       "      <td>Ashleyelizabeth</td>\n",
       "      <td>8</td>\n",
       "      <td>15</td>\n",
       "    </tr>\n",
       "    <tr>\n",
       "      <th>1</th>\n",
       "      <td>Hannahelizabeth</td>\n",
       "      <td>5</td>\n",
       "      <td>15</td>\n",
       "    </tr>\n",
       "    <tr>\n",
       "      <th>2</th>\n",
       "      <td>Laurenelizabeth</td>\n",
       "      <td>5</td>\n",
       "      <td>15</td>\n",
       "    </tr>\n",
       "    <tr>\n",
       "      <th>5</th>\n",
       "      <td>Sophiaelizabeth</td>\n",
       "      <td>5</td>\n",
       "      <td>15</td>\n",
       "    </tr>\n",
       "  </tbody>\n",
       "</table>\n",
       "</div>"
      ],
      "text/plain": [
       "              Name  Count  NameLength\n",
       "3  Mariadelosangel     28          15\n",
       "4  Mariadelrosario     16          15\n",
       "0  Ashleyelizabeth      8          15\n",
       "1  Hannahelizabeth      5          15\n",
       "2  Laurenelizabeth      5          15\n",
       "5  Sophiaelizabeth      5          15"
      ]
     },
     "execution_count": 101,
     "metadata": {},
     "output_type": "execute_result"
    }
   ],
   "source": [
    "# Step 0: Add a filter for female names\n",
    "df_females = df[df['Gender'] == 'F']\n",
    "\n",
    "# Step 1: Filter for the longest names among females\n",
    "df_females['NameLength'] = df_females['Name'].str.len()\n",
    "longest_name_females = df_females[df_females['NameLength'] == df_females['NameLength'].max()]\n",
    "\n",
    "# Step 2 & 3: Group by 'Name', sum 'Count', and sort for female names\n",
    "longest_name_summed_females = longest_name_females.groupby('Name')['Count'].sum().reset_index()\n",
    "\n",
    "# Merge to include NameLength for female names\n",
    "longest_name_summed_females = longest_name_summed_females.merge(longest_name_females[['Name', 'NameLength']].drop_duplicates(), on='Name', how='left')\n",
    "\n",
    "# Sort by 'Count' in descending order for female names\n",
    "longest_name_summed_females = longest_name_summed_females.sort_values(by='Count', ascending=False)\n",
    "\n",
    "# Step 4: Display the top 10 female names\n",
    "longest_name_summed_females.head(10)"
   ]
  },
  {
   "cell_type": "markdown",
   "metadata": {},
   "source": [
    "Longest female name in 2023"
   ]
  },
  {
   "cell_type": "code",
   "execution_count": null,
   "metadata": {},
   "outputs": [
    {
     "name": "stderr",
     "output_type": "stream",
     "text": [
      "/var/folders/fg/9vmq_tp10lv_kw_hsjpvgq840000gn/T/ipykernel_8038/3918819156.py:5: SettingWithCopyWarning: \n",
      "A value is trying to be set on a copy of a slice from a DataFrame.\n",
      "Try using .loc[row_indexer,col_indexer] = value instead\n",
      "\n",
      "See the caveats in the documentation: https://pandas.pydata.org/pandas-docs/stable/user_guide/indexing.html#returning-a-view-versus-a-copy\n",
      "  df_females_2023['NameLength'] = df_females_2023['Name'].str.len()\n"
     ]
    },
    {
     "data": {
      "text/html": [
       "<div>\n",
       "<style scoped>\n",
       "    .dataframe tbody tr th:only-of-type {\n",
       "        vertical-align: middle;\n",
       "    }\n",
       "\n",
       "    .dataframe tbody tr th {\n",
       "        vertical-align: top;\n",
       "    }\n",
       "\n",
       "    .dataframe thead th {\n",
       "        text-align: right;\n",
       "    }\n",
       "</style>\n",
       "<table border=\"1\" class=\"dataframe\">\n",
       "  <thead>\n",
       "    <tr style=\"text-align: right;\">\n",
       "      <th></th>\n",
       "      <th>Name</th>\n",
       "      <th>Count</th>\n",
       "      <th>NameLength</th>\n",
       "    </tr>\n",
       "  </thead>\n",
       "  <tbody>\n",
       "    <tr>\n",
       "      <th>0</th>\n",
       "      <td>Oluwafunmilayo</td>\n",
       "      <td>6</td>\n",
       "      <td>14</td>\n",
       "    </tr>\n",
       "  </tbody>\n",
       "</table>\n",
       "</div>"
      ],
      "text/plain": [
       "             Name  Count  NameLength\n",
       "0  Oluwafunmilayo      6          14"
      ]
     },
     "execution_count": 102,
     "metadata": {},
     "output_type": "execute_result"
    }
   ],
   "source": [
    "# Adjusted Step 0: Filter for female names in 2023\n",
    "df_females_2023 = df[(df['Gender'] == 'F') & (df['Year'] == 2023)]\n",
    "\n",
    "# Step 1: Calculate 'NameLength' for female names in 2023\n",
    "df_females_2023['NameLength'] = df_females_2023['Name'].str.len()\n",
    "longest_name_females_2023 = df_females_2023[df_females_2023['NameLength'] == df_females_2023['NameLength'].max()]\n",
    "\n",
    "# Step 2 & 3: Group by 'Name', sum 'Count', and sort for female names in 2023\n",
    "longest_name_summed_females_2023 = longest_name_females_2023.groupby('Name')['Count'].sum().reset_index()\n",
    "\n",
    "# Merge to include NameLength for female names in 2023\n",
    "longest_name_summed_females_2023 = longest_name_summed_females_2023.merge(longest_name_females_2023[['Name', 'NameLength']].drop_duplicates(), on='Name', how='left')\n",
    "\n",
    "# Sort by 'Count' in descending order for female names in 2023\n",
    "longest_name_summed_females_2023 = longest_name_summed_females_2023.sort_values(by='Count', ascending=False)\n",
    "\n",
    "# Step 4: Display the top 10 female names in 2023\n",
    "longest_name_summed_females_2023.head(10)"
   ]
  },
  {
   "cell_type": "markdown",
   "metadata": {},
   "source": [
    "Average difference name length between male names and female names"
   ]
  },
  {
   "cell_type": "code",
   "execution_count": null,
   "metadata": {},
   "outputs": [
    {
     "data": {
      "text/plain": [
       "0.31"
      ]
     },
     "execution_count": 99,
     "metadata": {},
     "output_type": "execute_result"
    }
   ],
   "source": [
    "# how much longer is a woman's name on average compared to a man's name?\n",
    "# Step 1: Calculate the average name length\n",
    "average_name_length_m = df_m['NameLength'].mean()\n",
    "average_name_length_f = df_f['NameLength'].mean()\n",
    "\n",
    "# Step 2: Calculate the difference in average name length\n",
    "average_name_length_difference = average_name_length_f - average_name_length_m\n",
    "\n",
    "# Display the result\n",
    "average_name_length_difference_rounded = round(average_name_length_difference, 2)\n",
    "average_name_length_difference_rounded"
   ]
  },
  {
   "cell_type": "markdown",
   "metadata": {},
   "source": [
    "Average difference name length between male names and female names in 2023"
   ]
  },
  {
   "cell_type": "code",
   "execution_count": null,
   "metadata": {},
   "outputs": [
    {
     "data": {
      "text/plain": [
       "0.27"
      ]
     },
     "execution_count": 100,
     "metadata": {},
     "output_type": "execute_result"
    }
   ],
   "source": [
    "# Filter for the year 2023\n",
    "df_m_2023 = df_m[df_m['Year'] == 2023]\n",
    "df_f_2023 = df_f[df_f['Year'] == 2023]\n",
    "\n",
    "# Step 1: Calculate the average name length for 2023\n",
    "average_name_length_m_2023 = df_m_2023['NameLength'].mean()\n",
    "average_name_length_f_2023 = df_f_2023['NameLength'].mean()\n",
    "\n",
    "# Step 2: Calculate the difference in average name length for 2023\n",
    "average_name_length_difference_2023 = average_name_length_f_2023 - average_name_length_m_2023\n",
    "\n",
    "# Display the result rounded to two decimal places\n",
    "average_name_length_difference_rounded_2023 = round(average_name_length_difference_2023, 2)\n",
    "average_name_length_difference_rounded_2023"
   ]
  },
  {
   "cell_type": "markdown",
   "metadata": {},
   "source": [
    "Average name length in 2023"
   ]
  },
  {
   "cell_type": "code",
   "execution_count": null,
   "metadata": {},
   "outputs": [
    {
     "data": {
      "text/plain": [
       "6.05"
      ]
     },
     "execution_count": 113,
     "metadata": {},
     "output_type": "execute_result"
    }
   ],
   "source": [
    "# Filter for the year 2023\n",
    "df_2023 = df[df['Year'] == 2023]\n",
    "\n",
    "# Step 1: Calculate the average name length for 2023\n",
    "average_name_length_2023 = df_2023['NameLength'].mean()\n",
    "\n",
    "\n",
    "# Display the result rounded to two decimal places\n",
    "average_name_length_rounded_2023 = round(average_name_length_2023, 2)\n",
    "average_name_length_rounded_2023"
   ]
  },
  {
   "cell_type": "markdown",
   "metadata": {},
   "source": [
    "Shortest names over all years"
   ]
  },
  {
   "cell_type": "code",
   "execution_count": null,
   "metadata": {},
   "outputs": [
    {
     "data": {
      "text/html": [
       "<div>\n",
       "<style scoped>\n",
       "    .dataframe tbody tr th:only-of-type {\n",
       "        vertical-align: middle;\n",
       "    }\n",
       "\n",
       "    .dataframe tbody tr th {\n",
       "        vertical-align: top;\n",
       "    }\n",
       "\n",
       "    .dataframe thead th {\n",
       "        text-align: right;\n",
       "    }\n",
       "</style>\n",
       "<table border=\"1\" class=\"dataframe\">\n",
       "  <thead>\n",
       "    <tr style=\"text-align: right;\">\n",
       "      <th></th>\n",
       "      <th>Name</th>\n",
       "      <th>Gender</th>\n",
       "      <th>Count</th>\n",
       "      <th>Year</th>\n",
       "      <th>name_with_gender</th>\n",
       "      <th>NameLength</th>\n",
       "    </tr>\n",
       "  </thead>\n",
       "  <tbody>\n",
       "    <tr>\n",
       "      <th>509304</th>\n",
       "      <td>Jo</td>\n",
       "      <td>F</td>\n",
       "      <td>8052</td>\n",
       "      <td>1954</td>\n",
       "      <td>Jo (F)</td>\n",
       "      <td>2</td>\n",
       "    </tr>\n",
       "    <tr>\n",
       "      <th>520340</th>\n",
       "      <td>Jo</td>\n",
       "      <td>F</td>\n",
       "      <td>7656</td>\n",
       "      <td>1955</td>\n",
       "      <td>Jo (F)</td>\n",
       "      <td>2</td>\n",
       "    </tr>\n",
       "    <tr>\n",
       "      <th>498471</th>\n",
       "      <td>Jo</td>\n",
       "      <td>F</td>\n",
       "      <td>7513</td>\n",
       "      <td>1953</td>\n",
       "      <td>Jo (F)</td>\n",
       "      <td>2</td>\n",
       "    </tr>\n",
       "    <tr>\n",
       "      <th>487739</th>\n",
       "      <td>Jo</td>\n",
       "      <td>F</td>\n",
       "      <td>7092</td>\n",
       "      <td>1952</td>\n",
       "      <td>Jo (F)</td>\n",
       "      <td>2</td>\n",
       "    </tr>\n",
       "    <tr>\n",
       "      <th>531516</th>\n",
       "      <td>Jo</td>\n",
       "      <td>F</td>\n",
       "      <td>6955</td>\n",
       "      <td>1956</td>\n",
       "      <td>Jo (F)</td>\n",
       "      <td>2</td>\n",
       "    </tr>\n",
       "    <tr>\n",
       "      <th>436004</th>\n",
       "      <td>Jo</td>\n",
       "      <td>F</td>\n",
       "      <td>6726</td>\n",
       "      <td>1947</td>\n",
       "      <td>Jo (F)</td>\n",
       "      <td>2</td>\n",
       "    </tr>\n",
       "    <tr>\n",
       "      <th>477201</th>\n",
       "      <td>Jo</td>\n",
       "      <td>F</td>\n",
       "      <td>6001</td>\n",
       "      <td>1951</td>\n",
       "      <td>Jo (F)</td>\n",
       "      <td>2</td>\n",
       "    </tr>\n",
       "    <tr>\n",
       "      <th>446265</th>\n",
       "      <td>Jo</td>\n",
       "      <td>F</td>\n",
       "      <td>5985</td>\n",
       "      <td>1948</td>\n",
       "      <td>Jo (F)</td>\n",
       "      <td>2</td>\n",
       "    </tr>\n",
       "    <tr>\n",
       "      <th>426017</th>\n",
       "      <td>Jo</td>\n",
       "      <td>F</td>\n",
       "      <td>5829</td>\n",
       "      <td>1946</td>\n",
       "      <td>Jo (F)</td>\n",
       "      <td>2</td>\n",
       "    </tr>\n",
       "    <tr>\n",
       "      <th>456533</th>\n",
       "      <td>Jo</td>\n",
       "      <td>F</td>\n",
       "      <td>5802</td>\n",
       "      <td>1949</td>\n",
       "      <td>Jo (F)</td>\n",
       "      <td>2</td>\n",
       "    </tr>\n",
       "    <tr>\n",
       "      <th>542988</th>\n",
       "      <td>Jo</td>\n",
       "      <td>F</td>\n",
       "      <td>5716</td>\n",
       "      <td>1957</td>\n",
       "      <td>Jo (F)</td>\n",
       "      <td>2</td>\n",
       "    </tr>\n",
       "    <tr>\n",
       "      <th>466797</th>\n",
       "      <td>Jo</td>\n",
       "      <td>F</td>\n",
       "      <td>5676</td>\n",
       "      <td>1950</td>\n",
       "      <td>Jo (F)</td>\n",
       "      <td>2</td>\n",
       "    </tr>\n",
       "    <tr>\n",
       "      <th>554465</th>\n",
       "      <td>Jo</td>\n",
       "      <td>F</td>\n",
       "      <td>5228</td>\n",
       "      <td>1958</td>\n",
       "      <td>Jo (F)</td>\n",
       "      <td>2</td>\n",
       "    </tr>\n",
       "    <tr>\n",
       "      <th>398272</th>\n",
       "      <td>Jo</td>\n",
       "      <td>F</td>\n",
       "      <td>4300</td>\n",
       "      <td>1943</td>\n",
       "      <td>Jo (F)</td>\n",
       "      <td>2</td>\n",
       "    </tr>\n",
       "    <tr>\n",
       "      <th>407589</th>\n",
       "      <td>Jo</td>\n",
       "      <td>F</td>\n",
       "      <td>4226</td>\n",
       "      <td>1944</td>\n",
       "      <td>Jo (F)</td>\n",
       "      <td>2</td>\n",
       "    </tr>\n",
       "    <tr>\n",
       "      <th>416625</th>\n",
       "      <td>Jo</td>\n",
       "      <td>F</td>\n",
       "      <td>4223</td>\n",
       "      <td>1945</td>\n",
       "      <td>Jo (F)</td>\n",
       "      <td>2</td>\n",
       "    </tr>\n",
       "    <tr>\n",
       "      <th>388861</th>\n",
       "      <td>Jo</td>\n",
       "      <td>F</td>\n",
       "      <td>4174</td>\n",
       "      <td>1942</td>\n",
       "      <td>Jo (F)</td>\n",
       "      <td>2</td>\n",
       "    </tr>\n",
       "    <tr>\n",
       "      <th>566107</th>\n",
       "      <td>Jo</td>\n",
       "      <td>F</td>\n",
       "      <td>4053</td>\n",
       "      <td>1959</td>\n",
       "      <td>Jo (F)</td>\n",
       "      <td>2</td>\n",
       "    </tr>\n",
       "    <tr>\n",
       "      <th>379648</th>\n",
       "      <td>Jo</td>\n",
       "      <td>F</td>\n",
       "      <td>3756</td>\n",
       "      <td>1941</td>\n",
       "      <td>Jo (F)</td>\n",
       "      <td>2</td>\n",
       "    </tr>\n",
       "    <tr>\n",
       "      <th>361714</th>\n",
       "      <td>Jo</td>\n",
       "      <td>F</td>\n",
       "      <td>3524</td>\n",
       "      <td>1939</td>\n",
       "      <td>Jo (F)</td>\n",
       "      <td>2</td>\n",
       "    </tr>\n",
       "  </tbody>\n",
       "</table>\n",
       "</div>"
      ],
      "text/plain": [
       "       Name Gender  Count  Year name_with_gender  NameLength\n",
       "509304   Jo      F   8052  1954           Jo (F)           2\n",
       "520340   Jo      F   7656  1955           Jo (F)           2\n",
       "498471   Jo      F   7513  1953           Jo (F)           2\n",
       "487739   Jo      F   7092  1952           Jo (F)           2\n",
       "531516   Jo      F   6955  1956           Jo (F)           2\n",
       "436004   Jo      F   6726  1947           Jo (F)           2\n",
       "477201   Jo      F   6001  1951           Jo (F)           2\n",
       "446265   Jo      F   5985  1948           Jo (F)           2\n",
       "426017   Jo      F   5829  1946           Jo (F)           2\n",
       "456533   Jo      F   5802  1949           Jo (F)           2\n",
       "542988   Jo      F   5716  1957           Jo (F)           2\n",
       "466797   Jo      F   5676  1950           Jo (F)           2\n",
       "554465   Jo      F   5228  1958           Jo (F)           2\n",
       "398272   Jo      F   4300  1943           Jo (F)           2\n",
       "407589   Jo      F   4226  1944           Jo (F)           2\n",
       "416625   Jo      F   4223  1945           Jo (F)           2\n",
       "388861   Jo      F   4174  1942           Jo (F)           2\n",
       "566107   Jo      F   4053  1959           Jo (F)           2\n",
       "379648   Jo      F   3756  1941           Jo (F)           2\n",
       "361714   Jo      F   3524  1939           Jo (F)           2"
      ]
     },
     "execution_count": 105,
     "metadata": {},
     "output_type": "execute_result"
    }
   ],
   "source": [
    "# shortest name over all years\n",
    "shortest_name = df[df['NameLength'] == df['NameLength'].min()].sort_values(by='Count', ascending=False)\n",
    "shortest_name.head(20)"
   ]
  },
  {
   "cell_type": "markdown",
   "metadata": {},
   "source": [
    "Shortes female name in 2023"
   ]
  },
  {
   "cell_type": "code",
   "execution_count": null,
   "metadata": {},
   "outputs": [
    {
     "data": {
      "text/html": [
       "<div>\n",
       "<style scoped>\n",
       "    .dataframe tbody tr th:only-of-type {\n",
       "        vertical-align: middle;\n",
       "    }\n",
       "\n",
       "    .dataframe tbody tr th {\n",
       "        vertical-align: top;\n",
       "    }\n",
       "\n",
       "    .dataframe thead th {\n",
       "        text-align: right;\n",
       "    }\n",
       "</style>\n",
       "<table border=\"1\" class=\"dataframe\">\n",
       "  <thead>\n",
       "    <tr style=\"text-align: right;\">\n",
       "      <th></th>\n",
       "      <th>Name</th>\n",
       "      <th>Gender</th>\n",
       "      <th>Count</th>\n",
       "      <th>Year</th>\n",
       "      <th>name_with_gender</th>\n",
       "      <th>NameLength</th>\n",
       "    </tr>\n",
       "  </thead>\n",
       "  <tbody>\n",
       "    <tr>\n",
       "      <th>2099905</th>\n",
       "      <td>Jo</td>\n",
       "      <td>F</td>\n",
       "      <td>46</td>\n",
       "      <td>2023</td>\n",
       "      <td>Jo (F)</td>\n",
       "      <td>2</td>\n",
       "    </tr>\n",
       "  </tbody>\n",
       "</table>\n",
       "</div>"
      ],
      "text/plain": [
       "        Name Gender  Count  Year name_with_gender  NameLength\n",
       "2099905   Jo      F     46  2023           Jo (F)           2"
      ]
     },
     "execution_count": 107,
     "metadata": {},
     "output_type": "execute_result"
    }
   ],
   "source": [
    "# Filter the dataframe for the year 2023 and female names\n",
    "df_2023_female = df[(df['Year'] == 2023) & (df['Gender'] == 'F')]\n",
    "\n",
    "# Find the shortest name length for females in 2023\n",
    "shortest_name_length_2023_female = df_2023_female['NameLength'].min()\n",
    "\n",
    "# Filter the dataframe for female names with the shortest length in 2023\n",
    "shortest_names_2023_female = df_2023_female[df_2023_female['NameLength'] == shortest_name_length_2023_female]\n",
    "\n",
    "# Find the most popular shortest female name in 2023 by sorting by 'Count' in descending order\n",
    "most_popular_shortest_name_2023_female = shortest_names_2023_female.sort_values(by='Count', ascending=False).head(1)\n",
    "\n",
    "# Display the result\n",
    "most_popular_shortest_name_2023_female"
   ]
  },
  {
   "cell_type": "markdown",
   "metadata": {},
   "source": [
    "Shortes male name in 2023"
   ]
  },
  {
   "cell_type": "code",
   "execution_count": null,
   "metadata": {},
   "outputs": [
    {
     "data": {
      "text/html": [
       "<div>\n",
       "<style scoped>\n",
       "    .dataframe tbody tr th:only-of-type {\n",
       "        vertical-align: middle;\n",
       "    }\n",
       "\n",
       "    .dataframe tbody tr th {\n",
       "        vertical-align: top;\n",
       "    }\n",
       "\n",
       "    .dataframe thead th {\n",
       "        text-align: right;\n",
       "    }\n",
       "</style>\n",
       "<table border=\"1\" class=\"dataframe\">\n",
       "  <thead>\n",
       "    <tr style=\"text-align: right;\">\n",
       "      <th></th>\n",
       "      <th>Name</th>\n",
       "      <th>Gender</th>\n",
       "      <th>Count</th>\n",
       "      <th>Year</th>\n",
       "      <th>name_with_gender</th>\n",
       "      <th>NameLength</th>\n",
       "    </tr>\n",
       "  </thead>\n",
       "  <tbody>\n",
       "    <tr>\n",
       "      <th>2090388</th>\n",
       "      <td>Bo</td>\n",
       "      <td>M</td>\n",
       "      <td>630</td>\n",
       "      <td>2023</td>\n",
       "      <td>Bo (M)</td>\n",
       "      <td>2</td>\n",
       "    </tr>\n",
       "  </tbody>\n",
       "</table>\n",
       "</div>"
      ],
      "text/plain": [
       "        Name Gender  Count  Year name_with_gender  NameLength\n",
       "2090388   Bo      M    630  2023           Bo (M)           2"
      ]
     },
     "execution_count": 109,
     "metadata": {},
     "output_type": "execute_result"
    }
   ],
   "source": [
    "# Filter the dataframe for the year 2023 and male names\n",
    "df_2023_male = df[(df['Year'] == 2023) & (df['Gender'] == 'M')]\n",
    "\n",
    "# Find the shortest name length for males in 2023\n",
    "shortest_name_length_2023_male = df_2023_male['NameLength'].min()\n",
    "\n",
    "# Filter the dataframe for male names with the shortest length in 2023\n",
    "shortest_names_2023_male = df_2023_male[df_2023_male['NameLength'] == shortest_name_length_2023_male]\n",
    "\n",
    "# Find the most popular shortest male name in 2023 by sorting by 'Count' in descending order\n",
    "most_popular_shortest_name_2023_male = shortest_names_2023_male.sort_values(by='Count', ascending=False).head(1)\n",
    "\n",
    "# Display the result\n",
    "most_popular_shortest_name_2023_male"
   ]
  },
  {
   "cell_type": "markdown",
   "metadata": {},
   "source": [
    "### Popularity"
   ]
  },
  {
   "cell_type": "markdown",
   "metadata": {},
   "source": [
    "most popular male name per year and percentage of total\n"
   ]
  },
  {
   "cell_type": "code",
   "execution_count": null,
   "metadata": {},
   "outputs": [
    {
     "name": "stdout",
     "output_type": "stream",
     "text": [
      "     Year  Name  Percentage\n",
      "0    1880  John    8.738347\n",
      "1    1881  John    8.704025\n",
      "2    1882  John    8.406488\n",
      "3    1883  John    8.500836\n",
      "4    1884  John    8.203282\n",
      "..    ...   ...         ...\n",
      "139  2019  Liam    1.150024\n",
      "140  2020  Liam    1.151162\n",
      "141  2021  Liam    1.167536\n",
      "142  2022  Liam    1.178734\n",
      "143  2023  Liam    1.222767\n",
      "\n",
      "[144 rows x 3 columns]\n"
     ]
    }
   ],
   "source": [
    "# most popular male name per year and percentage of total\n",
    "\n",
    "# Step 3: Filter for male names\n",
    "male_names = df[df['Gender'] == 'M']\n",
    "\n",
    "# Step 4: Find the maximum count for each year\n",
    "max_counts_per_year = male_names.groupby('Year')['Count'].max().reset_index(name='MaxCount')\n",
    "\n",
    "# Merge back with the male_names to get the rows with the maximum count\n",
    "most_popular_per_year = pd.merge(male_names, max_counts_per_year, left_on=['Year', 'Count'], right_on=['Year', 'MaxCount'])\n",
    "\n",
    "# Since there can be more than one name with the same highest count, drop duplicates\n",
    "most_popular_per_year = most_popular_per_year.drop_duplicates(subset=['Year', 'Count'], keep='first')\n",
    "\n",
    "# Calculate total counts per year for normalization, specifically for male names\n",
    "total_counts_per_year = male_names.groupby('Year')['Count'].sum().reset_index(name='TotalCount')\n",
    "\n",
    "# Merge to get the total counts per year for male names\n",
    "most_popular_per_year = pd.merge(most_popular_per_year, total_counts_per_year, on='Year')\n",
    "\n",
    "# Calculate the percentage of the most popular male name out of all male names for each year\n",
    "most_popular_per_year['Percentage'] = (most_popular_per_year['Count'] / most_popular_per_year['TotalCount']) * 100\n",
    "\n",
    "# Display the results\n",
    "print(most_popular_per_year[['Year', 'Name', 'Percentage']])\n",
    "\n",
    "# export to csv\n",
    "most_popular_per_year.to_csv(\"most_pop_male_name_per_year.csv\", index=False)"
   ]
  },
  {
   "cell_type": "markdown",
   "metadata": {},
   "source": [
    "Count Johns in 1880"
   ]
  },
  {
   "cell_type": "code",
   "execution_count": null,
   "metadata": {},
   "outputs": [
    {
     "data": {
      "text/html": [
       "<div>\n",
       "<style scoped>\n",
       "    .dataframe tbody tr th:only-of-type {\n",
       "        vertical-align: middle;\n",
       "    }\n",
       "\n",
       "    .dataframe tbody tr th {\n",
       "        vertical-align: top;\n",
       "    }\n",
       "\n",
       "    .dataframe thead th {\n",
       "        text-align: right;\n",
       "    }\n",
       "</style>\n",
       "<table border=\"1\" class=\"dataframe\">\n",
       "  <thead>\n",
       "    <tr style=\"text-align: right;\">\n",
       "      <th></th>\n",
       "      <th>Year</th>\n",
       "      <th>name_with_gender</th>\n",
       "      <th>Count</th>\n",
       "    </tr>\n",
       "  </thead>\n",
       "  <tbody>\n",
       "    <tr>\n",
       "      <th>1024</th>\n",
       "      <td>1880</td>\n",
       "      <td>John (M)</td>\n",
       "      <td>9655</td>\n",
       "    </tr>\n",
       "  </tbody>\n",
       "</table>\n",
       "</div>"
      ],
      "text/plain": [
       "      Year name_with_gender  Count\n",
       "1024  1880         John (M)   9655"
      ]
     },
     "execution_count": 133,
     "metadata": {},
     "output_type": "execute_result"
    }
   ],
   "source": [
    "# count John (M) in 1880\n",
    "# Step 1: Filter for 'John (M)' in 1880\n",
    "john_1880 = df[(df['name_with_gender'] == 'John (M)') & (df['Year'] == 1880)]\n",
    "\n",
    "# Step 2: Select relevant columns (optional if you want to narrow down the displayed data)\n",
    "john_1880 = john_1880[['Year', 'name_with_gender', 'Count']]\n",
    "john_1880"
   ]
  },
  {
   "cell_type": "markdown",
   "metadata": {},
   "source": [
    "Sample for checking D3 visualization results"
   ]
  },
  {
   "cell_type": "code",
   "execution_count": null,
   "metadata": {},
   "outputs": [
    {
     "data": {
      "text/html": [
       "<div>\n",
       "<style scoped>\n",
       "    .dataframe tbody tr th:only-of-type {\n",
       "        vertical-align: middle;\n",
       "    }\n",
       "\n",
       "    .dataframe tbody tr th {\n",
       "        vertical-align: top;\n",
       "    }\n",
       "\n",
       "    .dataframe thead th {\n",
       "        text-align: right;\n",
       "    }\n",
       "</style>\n",
       "<table border=\"1\" class=\"dataframe\">\n",
       "  <thead>\n",
       "    <tr style=\"text-align: right;\">\n",
       "      <th></th>\n",
       "      <th>Year</th>\n",
       "      <th>name_with_gender</th>\n",
       "      <th>Count</th>\n",
       "      <th>share_percent</th>\n",
       "    </tr>\n",
       "  </thead>\n",
       "  <tbody>\n",
       "    <tr>\n",
       "      <th>1024</th>\n",
       "      <td>1880</td>\n",
       "      <td>John (M)</td>\n",
       "      <td>9655</td>\n",
       "      <td>4.791944</td>\n",
       "    </tr>\n",
       "  </tbody>\n",
       "</table>\n",
       "</div>"
      ],
      "text/plain": [
       "      Year name_with_gender  Count  share_percent\n",
       "1024  1880         John (M)   9655       4.791944"
      ]
     },
     "execution_count": 134,
     "metadata": {},
     "output_type": "execute_result"
    }
   ],
   "source": [
    "# Step 3: Calculate share in percent of 'John (M)' in 1880\n",
    "total_counts = df[df['Year'] == 1880]['Count'].sum()\n",
    "john_1880['share_percent'] = (john_1880['Count'] / total_counts) * 100\n",
    "john_1880"
   ]
  },
  {
   "cell_type": "markdown",
   "metadata": {},
   "source": [
    "Count all gender m per year"
   ]
  },
  {
   "cell_type": "code",
   "execution_count": null,
   "metadata": {},
   "outputs": [
    {
     "name": "stdout",
     "output_type": "stream",
     "text": [
      "     Year    Count\n",
      "0    1880   110490\n",
      "1    1881   100735\n",
      "2    1882   113686\n",
      "3    1883   104625\n",
      "4    1884   114442\n",
      "5    1885   107799\n",
      "6    1886   110784\n",
      "7    1887   101411\n",
      "8    1888   120852\n",
      "9    1889   110580\n",
      "10   1890   111024\n",
      "11   1891   101191\n",
      "12   1892   122035\n",
      "13   1893   112318\n",
      "14   1894   115768\n",
      "15   1895   117394\n",
      "16   1896   119566\n",
      "17   1897   112757\n",
      "18   1898   122685\n",
      "19   1899   106211\n",
      "20   1900   150475\n",
      "21   1901   106467\n",
      "22   1902   122660\n",
      "23   1903   119231\n",
      "24   1904   128122\n",
      "25   1905   132307\n",
      "26   1906   133154\n",
      "27   1907   146826\n",
      "28   1908   154338\n",
      "29   1909   163996\n",
      "30   1910   194208\n",
      "31   1911   225969\n",
      "32   1912   429942\n",
      "33   1913   512565\n",
      "34   1914   654763\n",
      "35   1915   848577\n",
      "36   1916   890082\n",
      "37   1917   925483\n",
      "38   1918  1013481\n",
      "39   1919   980128\n",
      "40   1920  1064353\n",
      "41   1921  1101449\n",
      "42   1922  1088157\n",
      "43   1923  1096110\n",
      "44   1924  1132747\n",
      "45   1925  1115920\n",
      "46   1926  1110498\n",
      "47   1927  1126926\n",
      "48   1928  1107613\n",
      "49   1929  1075605\n",
      "50   1930  1097370\n",
      "51   1931  1039651\n",
      "52   1932  1044146\n",
      "53   1933   991500\n",
      "54   1934  1032586\n",
      "55   1935  1041309\n",
      "56   1936  1037184\n",
      "57   1937  1066616\n",
      "58   1938  1109139\n",
      "59   1939  1106821\n",
      "60   1940  1159134\n",
      "61   1941  1228276\n",
      "62   1942  1381082\n",
      "63   1943  1427263\n",
      "64   1944  1362843\n",
      "65   1945  1345790\n",
      "66   1946  1623992\n",
      "67   1947  1829518\n",
      "68   1948  1754606\n",
      "69   1949  1773868\n",
      "70   1950  1790305\n",
      "71   1951  1882857\n",
      "72   1952  1943669\n",
      "73   1953  1972290\n",
      "74   1954  2038779\n",
      "75   1955  2059781\n",
      "76   1956  2115321\n",
      "77   1957  2157228\n",
      "78   1958  2122544\n",
      "79   1959  2133567\n",
      "80   1960  2132033\n",
      "81   1961  2123668\n",
      "82   1962  2068326\n",
      "83   1963  2030940\n",
      "84   1964  1992739\n",
      "85   1965  1860356\n",
      "86   1966  1783453\n",
      "87   1967  1743902\n",
      "88   1968  1738035\n",
      "89   1969  1788374\n",
      "90   1970  1858383\n",
      "91   1971  1768492\n",
      "92   1972  1621819\n",
      "93   1973  1558655\n",
      "94   1974  1572476\n",
      "95   1975  1561487\n",
      "96   1976  1569182\n",
      "97   1977  1643275\n",
      "98   1978  1641964\n",
      "99   1979  1721664\n",
      "100  1980  1784103\n",
      "101  1981  1791317\n",
      "102  1982  1814640\n",
      "103  1983  1792664\n",
      "104  1984  1804883\n",
      "105  1985  1848201\n",
      "106  1986  1841466\n",
      "107  1987  1866899\n",
      "108  1988  1914093\n",
      "109  1989  2000816\n",
      "110  1990  2053802\n",
      "111  1991  2020168\n",
      "112  1992  1997219\n",
      "113  1993  1961166\n",
      "114  1994  1931834\n",
      "115  1995  1903532\n",
      "116  1996  1894140\n",
      "117  1997  1885017\n",
      "118  1998  1911257\n",
      "119  1999  1920020\n",
      "120  2000  1963874\n",
      "121  2001  1942773\n",
      "122  2002  1941398\n",
      "123  2003  1975097\n",
      "124  2004  1984649\n",
      "125  2005  1996984\n",
      "126  2006  2054883\n",
      "127  2007  2075000\n",
      "128  2008  2039647\n",
      "129  2009  1982930\n",
      "130  2010  1918132\n",
      "131  2011  1898640\n",
      "132  2012  1896275\n",
      "133  2013  1890819\n",
      "134  2014  1919925\n",
      "135  2015  1915735\n",
      "136  2016  1896596\n",
      "137  2017  1849545\n",
      "138  2018  1814581\n",
      "139  2019  1792223\n",
      "140  2020  1723649\n",
      "141  2021  1746499\n",
      "142  2022  1741954\n",
      "143  2023  1701224\n"
     ]
    }
   ],
   "source": [
    "# count of all gender m per year\n",
    "# Step 1: Filter for gender \"M\"\n",
    "df_m = df[df['Gender'] == 'M']\n",
    "\n",
    "# Step 2 & 3: Group by 'year' and sum 'count'\n",
    "counts_per_year_m = df_m.groupby('Year')['Count'].sum()\n",
    "\n",
    "# Step 4: Reset index to have 'year' as a column\n",
    "counts_per_year_m = counts_per_year_m.reset_index()\n",
    "\n",
    "# Display the result\n",
    "print(counts_per_year_m)"
   ]
  },
  {
   "cell_type": "markdown",
   "metadata": {},
   "source": [
    "Sample Output elisabeth for checking D3 visualization results"
   ]
  },
  {
   "cell_type": "code",
   "execution_count": null,
   "metadata": {},
   "outputs": [
    {
     "data": {
      "text/plain": [
       "Year\n",
       "1880      24\n",
       "1881      25\n",
       "1882      29\n",
       "1883      26\n",
       "1884      32\n",
       "1885      32\n",
       "1886      43\n",
       "1887      33\n",
       "1888      33\n",
       "1889      45\n",
       "1890      23\n",
       "1891      27\n",
       "1892      55\n",
       "1893      48\n",
       "1894      58\n",
       "1895      43\n",
       "1896      50\n",
       "1897      57\n",
       "1898      66\n",
       "1899      52\n",
       "1900      54\n",
       "1901      51\n",
       "1902      50\n",
       "1903      60\n",
       "1904      53\n",
       "1905      88\n",
       "1906      82\n",
       "1907      90\n",
       "1908      89\n",
       "1909      93\n",
       "1910     102\n",
       "1911      96\n",
       "1912     131\n",
       "1913     180\n",
       "1914     217\n",
       "1915     261\n",
       "1916     278\n",
       "1917     331\n",
       "1918     292\n",
       "1919     273\n",
       "1920     259\n",
       "1921     245\n",
       "1922     222\n",
       "1923     189\n",
       "1924     200\n",
       "1925     184\n",
       "1926     182\n",
       "1927     177\n",
       "1928     156\n",
       "1929     153\n",
       "1930     146\n",
       "1931     156\n",
       "1932     114\n",
       "1933     123\n",
       "1934     122\n",
       "1935     109\n",
       "1936     120\n",
       "1937     137\n",
       "1938     128\n",
       "1939     129\n",
       "1940     114\n",
       "1941     138\n",
       "1942     149\n",
       "1943     146\n",
       "1944     150\n",
       "1945     148\n",
       "1946     146\n",
       "1947     207\n",
       "1948     175\n",
       "1949     182\n",
       "1950     187\n",
       "1951     184\n",
       "1952     201\n",
       "1953     218\n",
       "1954     259\n",
       "1955     229\n",
       "1956     312\n",
       "1957     316\n",
       "1958     331\n",
       "1959     327\n",
       "1960     378\n",
       "1961     368\n",
       "1962     402\n",
       "1963     465\n",
       "1964     439\n",
       "1965     458\n",
       "1966     445\n",
       "1967     467\n",
       "1968     437\n",
       "1969     411\n",
       "1970     426\n",
       "1971     399\n",
       "1972     353\n",
       "1973     373\n",
       "1974     413\n",
       "1975     460\n",
       "1976     497\n",
       "1977     576\n",
       "1978     589\n",
       "1979     631\n",
       "1980     752\n",
       "1981     734\n",
       "1982     809\n",
       "1983     704\n",
       "1984     790\n",
       "1985     776\n",
       "1986     705\n",
       "1987     722\n",
       "1988     714\n",
       "1989     823\n",
       "1990     765\n",
       "1991     734\n",
       "1992     760\n",
       "1993     788\n",
       "1994     727\n",
       "1995     701\n",
       "1996     739\n",
       "1997     865\n",
       "1998     740\n",
       "1999     693\n",
       "2000     735\n",
       "2001    1093\n",
       "2002     824\n",
       "2003     709\n",
       "2004     702\n",
       "2005     682\n",
       "2006     613\n",
       "2007     628\n",
       "2008     585\n",
       "2009     554\n",
       "2010     498\n",
       "2011     476\n",
       "2012     465\n",
       "2013     460\n",
       "2014     487\n",
       "2015     403\n",
       "2016     427\n",
       "2017     359\n",
       "2018     349\n",
       "2019     293\n",
       "2020     261\n",
       "2021     254\n",
       "2022     272\n",
       "2023     255\n",
       "Name: Count, dtype: int64"
      ]
     },
     "execution_count": 45,
     "metadata": {},
     "output_type": "execute_result"
    }
   ],
   "source": [
    "# count of names for elisabeth\n",
    "elisabeth = df[df['Name'] == 'Elisabeth']\n",
    "elisabeth_per_year = elisabeth.groupby('Year')['Count'].sum()\n",
    "# display all years\n",
    "# Set the option to display all rows\n",
    "pd.set_option('display.max_rows', 1000)\n",
    "\n",
    "elisabeth_per_year\n",
    "\n",
    "# count of names for elisabeth for 1978\n",
    "# elisabeth_1978 = elisabeth[elisabeth['Year'] == 1976]\n",
    "# elisabeth_1978.plot(x='Name', y='Count', kind='bar')\n"
   ]
  },
  {
   "cell_type": "markdown",
   "metadata": {},
   "source": [
    "10 most popular male names in 2023"
   ]
  },
  {
   "cell_type": "code",
   "execution_count": null,
   "metadata": {},
   "outputs": [
    {
     "data": {
      "text/html": [
       "<div>\n",
       "<style scoped>\n",
       "    .dataframe tbody tr th:only-of-type {\n",
       "        vertical-align: middle;\n",
       "    }\n",
       "\n",
       "    .dataframe tbody tr th {\n",
       "        vertical-align: top;\n",
       "    }\n",
       "\n",
       "    .dataframe thead th {\n",
       "        text-align: right;\n",
       "    }\n",
       "</style>\n",
       "<table border=\"1\" class=\"dataframe\">\n",
       "  <thead>\n",
       "    <tr style=\"text-align: right;\">\n",
       "      <th></th>\n",
       "      <th>Name</th>\n",
       "      <th>Gender</th>\n",
       "      <th>Count</th>\n",
       "      <th>Year</th>\n",
       "      <th>name_with_gender</th>\n",
       "      <th>NameLength</th>\n",
       "    </tr>\n",
       "  </thead>\n",
       "  <tbody>\n",
       "    <tr>\n",
       "      <th>2104196</th>\n",
       "      <td>Liam</td>\n",
       "      <td>M</td>\n",
       "      <td>20802</td>\n",
       "      <td>2023</td>\n",
       "      <td>Liam (M)</td>\n",
       "      <td>4</td>\n",
       "    </tr>\n",
       "    <tr>\n",
       "      <th>2108369</th>\n",
       "      <td>Noah</td>\n",
       "      <td>M</td>\n",
       "      <td>18995</td>\n",
       "      <td>2023</td>\n",
       "      <td>Noah (M)</td>\n",
       "      <td>4</td>\n",
       "    </tr>\n",
       "    <tr>\n",
       "      <th>2108825</th>\n",
       "      <td>Oliver</td>\n",
       "      <td>M</td>\n",
       "      <td>14741</td>\n",
       "      <td>2023</td>\n",
       "      <td>Oliver (M)</td>\n",
       "      <td>6</td>\n",
       "    </tr>\n",
       "    <tr>\n",
       "      <th>2098810</th>\n",
       "      <td>James</td>\n",
       "      <td>M</td>\n",
       "      <td>11670</td>\n",
       "      <td>2023</td>\n",
       "      <td>James (M)</td>\n",
       "      <td>5</td>\n",
       "    </tr>\n",
       "    <tr>\n",
       "      <th>2094461</th>\n",
       "      <td>Elijah</td>\n",
       "      <td>M</td>\n",
       "      <td>11452</td>\n",
       "      <td>2023</td>\n",
       "      <td>Elijah (M)</td>\n",
       "      <td>6</td>\n",
       "    </tr>\n",
       "    <tr>\n",
       "      <th>2106053</th>\n",
       "      <td>Mateo</td>\n",
       "      <td>M</td>\n",
       "      <td>11229</td>\n",
       "      <td>2023</td>\n",
       "      <td>Mateo (M)</td>\n",
       "      <td>5</td>\n",
       "    </tr>\n",
       "    <tr>\n",
       "      <th>2114022</th>\n",
       "      <td>Theodore</td>\n",
       "      <td>M</td>\n",
       "      <td>11041</td>\n",
       "      <td>2023</td>\n",
       "      <td>Theodore (M)</td>\n",
       "      <td>8</td>\n",
       "    </tr>\n",
       "    <tr>\n",
       "      <th>2097314</th>\n",
       "      <td>Henry</td>\n",
       "      <td>M</td>\n",
       "      <td>10941</td>\n",
       "      <td>2023</td>\n",
       "      <td>Henry (M)</td>\n",
       "      <td>5</td>\n",
       "    </tr>\n",
       "    <tr>\n",
       "      <th>2104674</th>\n",
       "      <td>Lucas</td>\n",
       "      <td>M</td>\n",
       "      <td>10842</td>\n",
       "      <td>2023</td>\n",
       "      <td>Lucas (M)</td>\n",
       "      <td>5</td>\n",
       "    </tr>\n",
       "    <tr>\n",
       "      <th>2115332</th>\n",
       "      <td>William</td>\n",
       "      <td>M</td>\n",
       "      <td>10598</td>\n",
       "      <td>2023</td>\n",
       "      <td>William (M)</td>\n",
       "      <td>7</td>\n",
       "    </tr>\n",
       "  </tbody>\n",
       "</table>\n",
       "</div>"
      ],
      "text/plain": [
       "             Name Gender  Count  Year name_with_gender  NameLength\n",
       "2104196      Liam      M  20802  2023         Liam (M)           4\n",
       "2108369      Noah      M  18995  2023         Noah (M)           4\n",
       "2108825    Oliver      M  14741  2023       Oliver (M)           6\n",
       "2098810     James      M  11670  2023        James (M)           5\n",
       "2094461    Elijah      M  11452  2023       Elijah (M)           6\n",
       "2106053     Mateo      M  11229  2023        Mateo (M)           5\n",
       "2114022  Theodore      M  11041  2023     Theodore (M)           8\n",
       "2097314     Henry      M  10941  2023        Henry (M)           5\n",
       "2104674     Lucas      M  10842  2023        Lucas (M)           5\n",
       "2115332   William      M  10598  2023      William (M)           7"
      ]
     },
     "execution_count": 119,
     "metadata": {},
     "output_type": "execute_result"
    }
   ],
   "source": [
    "\n",
    "# Filter the dataframe for the year 2023 and male names\n",
    "df_2023_male = df[(df['Year'] == 2023) & (df['Gender'] == 'M')]\n",
    "\n",
    "# show the 10 most popular male names in 2023\n",
    "df_2023_male.nlargest(10, 'Count')\n"
   ]
  },
  {
   "cell_type": "markdown",
   "metadata": {},
   "source": [
    "10 most popular female names in 2023"
   ]
  },
  {
   "cell_type": "code",
   "execution_count": null,
   "metadata": {},
   "outputs": [
    {
     "data": {
      "text/html": [
       "<div>\n",
       "<style scoped>\n",
       "    .dataframe tbody tr th:only-of-type {\n",
       "        vertical-align: middle;\n",
       "    }\n",
       "\n",
       "    .dataframe tbody tr th {\n",
       "        vertical-align: top;\n",
       "    }\n",
       "\n",
       "    .dataframe thead th {\n",
       "        text-align: right;\n",
       "    }\n",
       "</style>\n",
       "<table border=\"1\" class=\"dataframe\">\n",
       "  <thead>\n",
       "    <tr style=\"text-align: right;\">\n",
       "      <th></th>\n",
       "      <th>Name</th>\n",
       "      <th>Gender</th>\n",
       "      <th>Count</th>\n",
       "      <th>Year</th>\n",
       "      <th>name_with_gender</th>\n",
       "      <th>NameLength</th>\n",
       "    </tr>\n",
       "  </thead>\n",
       "  <tbody>\n",
       "    <tr>\n",
       "      <th>2108829</th>\n",
       "      <td>Olivia</td>\n",
       "      <td>F</td>\n",
       "      <td>15270</td>\n",
       "      <td>2023</td>\n",
       "      <td>Olivia (F)</td>\n",
       "      <td>6</td>\n",
       "    </tr>\n",
       "    <tr>\n",
       "      <th>2094952</th>\n",
       "      <td>Emma</td>\n",
       "      <td>F</td>\n",
       "      <td>13527</td>\n",
       "      <td>2023</td>\n",
       "      <td>Emma (F)</td>\n",
       "      <td>4</td>\n",
       "    </tr>\n",
       "    <tr>\n",
       "      <th>2091738</th>\n",
       "      <td>Charlotte</td>\n",
       "      <td>F</td>\n",
       "      <td>12596</td>\n",
       "      <td>2023</td>\n",
       "      <td>Charlotte (F)</td>\n",
       "      <td>9</td>\n",
       "    </tr>\n",
       "    <tr>\n",
       "      <th>2087486</th>\n",
       "      <td>Amelia</td>\n",
       "      <td>F</td>\n",
       "      <td>12311</td>\n",
       "      <td>2023</td>\n",
       "      <td>Amelia (F)</td>\n",
       "      <td>6</td>\n",
       "    </tr>\n",
       "    <tr>\n",
       "      <th>2112943</th>\n",
       "      <td>Sophia</td>\n",
       "      <td>F</td>\n",
       "      <td>11944</td>\n",
       "      <td>2023</td>\n",
       "      <td>Sophia (F)</td>\n",
       "      <td>6</td>\n",
       "    </tr>\n",
       "    <tr>\n",
       "      <th>2106666</th>\n",
       "      <td>Mia</td>\n",
       "      <td>F</td>\n",
       "      <td>11359</td>\n",
       "      <td>2023</td>\n",
       "      <td>Mia (F)</td>\n",
       "      <td>3</td>\n",
       "    </tr>\n",
       "    <tr>\n",
       "      <th>2097950</th>\n",
       "      <td>Isabella</td>\n",
       "      <td>F</td>\n",
       "      <td>10808</td>\n",
       "      <td>2023</td>\n",
       "      <td>Isabella (F)</td>\n",
       "      <td>8</td>\n",
       "    </tr>\n",
       "    <tr>\n",
       "      <th>2089253</th>\n",
       "      <td>Ava</td>\n",
       "      <td>F</td>\n",
       "      <td>9682</td>\n",
       "      <td>2023</td>\n",
       "      <td>Ava (F)</td>\n",
       "      <td>3</td>\n",
       "    </tr>\n",
       "    <tr>\n",
       "      <th>2095465</th>\n",
       "      <td>Evelyn</td>\n",
       "      <td>F</td>\n",
       "      <td>9082</td>\n",
       "      <td>2023</td>\n",
       "      <td>Evelyn (F)</td>\n",
       "      <td>6</td>\n",
       "    </tr>\n",
       "    <tr>\n",
       "      <th>2104775</th>\n",
       "      <td>Luna</td>\n",
       "      <td>F</td>\n",
       "      <td>7811</td>\n",
       "      <td>2023</td>\n",
       "      <td>Luna (F)</td>\n",
       "      <td>4</td>\n",
       "    </tr>\n",
       "  </tbody>\n",
       "</table>\n",
       "</div>"
      ],
      "text/plain": [
       "              Name Gender  Count  Year name_with_gender  NameLength\n",
       "2108829     Olivia      F  15270  2023       Olivia (F)           6\n",
       "2094952       Emma      F  13527  2023         Emma (F)           4\n",
       "2091738  Charlotte      F  12596  2023    Charlotte (F)           9\n",
       "2087486     Amelia      F  12311  2023       Amelia (F)           6\n",
       "2112943     Sophia      F  11944  2023       Sophia (F)           6\n",
       "2106666        Mia      F  11359  2023          Mia (F)           3\n",
       "2097950   Isabella      F  10808  2023     Isabella (F)           8\n",
       "2089253        Ava      F   9682  2023          Ava (F)           3\n",
       "2095465     Evelyn      F   9082  2023       Evelyn (F)           6\n",
       "2104775       Luna      F   7811  2023         Luna (F)           4"
      ]
     },
     "execution_count": 117,
     "metadata": {},
     "output_type": "execute_result"
    }
   ],
   "source": [
    "\n",
    "# Filter the dataframe for the year 2023 and male names\n",
    "df_2023_female = df[(df['Year'] == 2023) & (df['Gender'] == 'F')]\n",
    "\n",
    "# show the 10 most popular male names in 2023\n",
    "df_2023_female.nlargest(10, 'Count')"
   ]
  },
  {
   "cell_type": "markdown",
   "metadata": {},
   "source": [
    "Sum all female names in 2023"
   ]
  },
  {
   "cell_type": "code",
   "execution_count": 20,
   "metadata": {},
   "outputs": [
    {
     "data": {
      "text/plain": [
       "1596022.0"
      ]
     },
     "execution_count": 20,
     "metadata": {},
     "output_type": "execute_result"
    }
   ],
   "source": [
    "# Step 1: Filter the dataframe for the year 2023 and female names\n",
    "df_2023_female = df[(df['Year'] == 2023) & (df['Gender'] == 'F')]\n",
    "\n",
    "# Step 2: Sum all counts for female names in 2023\n",
    "total_counts_female_2023 = df_2023_female['Count'].sum()\n",
    "\n",
    "# Output the total count\n",
    "total_counts_female_2023"
   ]
  },
  {
   "cell_type": "markdown",
   "metadata": {},
   "source": [
    "### Number of Unique names per year"
   ]
  },
  {
   "cell_type": "code",
   "execution_count": null,
   "metadata": {},
   "outputs": [
    {
     "data": {
      "text/plain": [
       "Year\n",
       "1880    1889\n",
       "1881    1829\n",
       "1882    2012\n",
       "1883    1962\n",
       "1884    2158\n",
       "1885    2139\n",
       "1886    2225\n",
       "1887    2215\n",
       "1888    2454\n",
       "1889    2390\n",
       "Name: Name, dtype: int64"
      ]
     },
     "execution_count": 37,
     "metadata": {},
     "output_type": "execute_result"
    }
   ],
   "source": [
    "# Number of unique first names per year\n",
    "unique_names_per_year = df.groupby(\"Year\")[\"Name\"].nunique()\n",
    "unique_names_per_year.head(10)\n",
    "# plot = df.groupby(\"Year\")[\"Name\"].nunique().plot()\n",
    "\n",
    "\n"
   ]
  },
  {
   "cell_type": "markdown",
   "metadata": {},
   "source": [
    "Plot number of unique first names per year over time"
   ]
  },
  {
   "cell_type": "code",
   "execution_count": null,
   "metadata": {},
   "outputs": [
    {
     "data": {
      "text/plain": [
       "<Axes: title={'center': 'Number of unique first names per year'}, xlabel='Year', ylabel='Number of unique names'>"
      ]
     },
     "execution_count": 38,
     "metadata": {},
     "output_type": "execute_result"
    },
    {
     "data": {
      "image/png": "[encoded data removed]",
      "text/plain": [
       "<Figure size 640x480 with 1 Axes>"
      ]
     },
     "metadata": {},
     "output_type": "display_data"
    }
   ],
   "source": [
    "unique_names_per_year.plot(title=\"Number of unique first names per year\", xlabel=\"Year\", ylabel=\"Number of unique names\")"
   ]
  },
  {
   "cell_type": "code",
   "execution_count": null,
   "metadata": {},
   "outputs": [
    {
     "data": {
      "text/plain": [
       "<Axes: xlabel='Year'>"
      ]
     },
     "execution_count": 39,
     "metadata": {},
     "output_type": "execute_result"
    },
    {
     "data": {
      "image/png": "[encoded data removed]",
      "text/plain": [
       "<Figure size 640x480 with 1 Axes>"
      ]
     },
     "metadata": {},
     "output_type": "display_data"
    }
   ],
   "source": [
    "# Filter for only female entries\n",
    "female_data = combined_data[combined_data['Gender'] == 'F']\n",
    "\n",
    "# Group by year and count unique names\n",
    "unique_female_names_per_year = female_data.groupby('Year')['Name'].nunique()\n",
    "\n",
    "# Plot the count of unique female names for every year\n",
    "unique_female_names_per_year.plot()"
   ]
  },
  {
   "cell_type": "code",
   "execution_count": null,
   "metadata": {},
   "outputs": [
    {
     "data": {
      "text/plain": [
       "<Axes: xlabel='Year'>"
      ]
     },
     "execution_count": 40,
     "metadata": {},
     "output_type": "execute_result"
    },
    {
     "data": {
      "image/png": "[encoded data removed]",
      "text/plain": [
       "<Figure size 640x480 with 1 Axes>"
      ]
     },
     "metadata": {},
     "output_type": "display_data"
    }
   ],
   "source": [
    "# Filter for only male entries\n",
    "male_data = combined_data[combined_data['Gender'] == 'M']\n",
    "\n",
    "# Group by year and count unique names\n",
    "unique_male_names_per_year = male_data.groupby('Year')['Name'].nunique()\n",
    "\n",
    "# Plot the count of unique male names for every year\n",
    "unique_male_names_per_year.plot()"
   ]
  },
  {
   "cell_type": "markdown",
   "metadata": {},
   "source": [
    "Plot the share of unique first names per year"
   ]
  },
  {
   "cell_type": "code",
   "execution_count": null,
   "metadata": {},
   "outputs": [
    {
     "data": {
      "image/png": "[encoded data removed]",
      "text/plain": [
       "<Figure size 640x480 with 1 Axes>"
      ]
     },
     "metadata": {},
     "output_type": "display_data"
    }
   ],
   "source": [
    "# calculate the share of unique name to all names in that year\n",
    "# Step 1 & 2: Group by 'year' and calculate total counts\n",
    "total_counts_by_year = df.groupby('Year')['Count'].transform('sum')\n",
    "\n",
    "# Step 3: Calculate share in percent\n",
    "df['share_of_unique_names'] = (df.groupby('Year')['Name'].transform('nunique') / total_counts_by_year) * 100\n",
    "\n",
    "# Plot the share of unique names to all names in that year\n",
    "df.groupby('Year')['share_of_unique_names'].mean().plot(title='Share of unique names to all names in that year', xlabel='Year', ylabel='Share in percent')\n",
    "\n",
    "# export to csv just column year and share of unique names\n",
    "df_unique_names = df[['Year', 'share_of_unique_names']].drop_duplicates()\n",
    "df_unique_names[['Year', 'share_of_unique_names']].to_csv(\"babynames_with_share_all.csv\", index=False)\n"
   ]
  },
  {
   "cell_type": "markdown",
   "metadata": {},
   "source": [
    "Plot the share of unique female first names per year"
   ]
  },
  {
   "cell_type": "code",
   "execution_count": null,
   "metadata": {},
   "outputs": [
    {
     "data": {
      "image/png": "[encoded data removed]",
      "text/plain": [
       "<Figure size 640x480 with 1 Axes>"
      ]
     },
     "metadata": {},
     "output_type": "display_data"
    }
   ],
   "source": [
    "\n",
    "# Filter the DataFrame for Gender F\n",
    "df_f = df[df['Gender'] == 'F'].copy()\n",
    "\n",
    "# Step 1 & 2: Group by 'Year' and calculate total counts for Gender F\n",
    "total_counts_by_year_f = df_f.groupby('Year')['Count'].transform('sum')\n",
    "\n",
    "# Step 3: Calculate share in percent for Gender F\n",
    "df_f['share_of_unique_names'] = (df_f.groupby('Year')['Name'].transform('nunique') / total_counts_by_year_f) * 100\n",
    "\n",
    "# Plot the share of unique names to all names in that year for Gender F\n",
    "df_f.groupby('Year')['share_of_unique_names'].mean().plot(title='Share of unique names to all names in that year (Gender F)', xlabel='Year', ylabel='Share in percent')\n",
    "\n",
    "# export to csv just column year and share of unique names\n",
    "df_unique_names_f = df_f[['Year', 'share_of_unique_names']].drop_duplicates()\n",
    "df_unique_names_f[['Year', 'share_of_unique_names']].to_csv(\"babynames_with_share_f.csv\", index=False)\n"
   ]
  },
  {
   "cell_type": "markdown",
   "metadata": {},
   "source": [
    "Plot the share of unique male first names per year"
   ]
  },
  {
   "cell_type": "code",
   "execution_count": null,
   "metadata": {},
   "outputs": [
    {
     "data": {
      "image/png": "[encoded data removed]",
      "text/plain": [
       "<Figure size 640x480 with 1 Axes>"
      ]
     },
     "metadata": {},
     "output_type": "display_data"
    }
   ],
   "source": [
    "# Filter the DataFrame for Gender M\n",
    "df_m = df[df['Gender'] == 'M'].copy()\n",
    "\n",
    "# Step 1 & 2: Group by 'Year' and calculate total counts for Gender M\n",
    "total_counts_by_year_m = df_m.groupby('Year')['Count'].transform('sum')\n",
    "\n",
    "# Step 3: Calculate share in percent for Gender M\n",
    "df_m['share_of_unique_names'] = (df_m.groupby('Year')['Name'].transform('nunique') / total_counts_by_year_m) * 100\n",
    "\n",
    "# Plot the share of unique names to all names in that year for Gender M\n",
    "df_m.groupby('Year')['share_of_unique_names'].mean().plot(title='Share of unique names to all names in that year (Gender M)', xlabel='Year', ylabel='Share in percent')\n",
    "\n",
    "# export to csv just column year and share of unique names Gender M\n",
    "df_unique_names_m = df_m[['Year', 'share_of_unique_names']].drop_duplicates()\n",
    "df_unique_names_m[['Year', 'share_of_unique_names']].to_csv(\"babynames_with_share_m.csv\", index=False)"
   ]
  },
  {
   "cell_type": "code",
   "execution_count": null,
   "metadata": {},
   "outputs": [
    {
     "data": {
      "text/plain": [
       "Year\n",
       "1880    110490\n",
       "1881    100735\n",
       "1882    113686\n",
       "1883    104625\n",
       "1884    114442\n",
       "1885    107799\n",
       "1886    110784\n",
       "1887    101411\n",
       "1888    120852\n",
       "1889    110580\n",
       "1890    111024\n",
       "1891    101191\n",
       "1892    122035\n",
       "1893    112318\n",
       "1894    115768\n",
       "1895    117394\n",
       "1896    119566\n",
       "1897    112757\n",
       "1898    122685\n",
       "1899    106211\n",
       "Name: Count, dtype: int64"
      ]
     },
     "execution_count": 34,
     "metadata": {},
     "output_type": "execute_result"
    }
   ],
   "source": [
    "# Step 1: Filter for gender \"M\"\n",
    "df_m = df[df['Gender'] == 'M'].copy()\n",
    "\n",
    "#count of unique names per year with Gender M\n",
    "unique_names_per_year_m = df_m.groupby(\"Year\")[\"Name\"].nunique()\n",
    "unique_names_per_year_m.head(20)\n",
    "\n",
    "#count of all names per year with Gender M\n",
    "total_counts_by_year_m = df_m.groupby(\"Year\")[\"Count\"].sum()\n",
    "total_counts_by_year_m.head(20)"
   ]
  },
  {
   "cell_type": "markdown",
   "metadata": {},
   "source": [
    "### Calculations Name length"
   ]
  },
  {
   "cell_type": "markdown",
   "metadata": {},
   "source": [
    "Just in 2023"
   ]
  },
  {
   "cell_type": "markdown",
   "metadata": {},
   "source": [
    "Average name length in 2023"
   ]
  },
  {
   "cell_type": "markdown",
   "metadata": {},
   "source": [
    "Shortest names sorted by count"
   ]
  },
  {
   "cell_type": "markdown",
   "metadata": {},
   "source": [
    "Shortest and most frequently given female name in 2023"
   ]
  },
  {
   "cell_type": "markdown",
   "metadata": {},
   "source": [
    "Shortest and most frequently given male name in 2023"
   ]
  },
  {
   "cell_type": "markdown",
   "metadata": {},
   "source": [
    "Most popular male name per year and percentage of total"
   ]
  }
 ],
 "metadata": {
  "kernelspec": {
   "display_name": "Python 3",
   "language": "python",
   "name": "python3"
  },
  "language_info": {
   "codemirror_mode": {
    "name": "ipython",
    "version": 3
   },
   "file_extension": ".py",
   "mimetype": "text/x-python",
   "name": "python",
   "nbconvert_exporter": "python",
   "pygments_lexer": "ipython3",
   "version": "3.11.8"
  }
 },
 "nbformat": 4,
 "nbformat_minor": 2
}
